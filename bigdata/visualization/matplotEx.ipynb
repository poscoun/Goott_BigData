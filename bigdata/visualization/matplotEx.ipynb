{
 "cells": [
  {
   "cell_type": "markdown",
   "id": "494823a3",
   "metadata": {},
   "source": [
    "# 시각화 패키지 - Matplotlib"
   ]
  },
  {
   "cell_type": "code",
   "execution_count": null,
   "id": "1f671902",
   "metadata": {},
   "outputs": [],
   "source": [
    "'''\n",
    "# 데이터를 차트(chart)나 플롯(plot)으로 시각화 하는 패키지\n",
    "# 여러 다양한 시각화 기능을 제공\n",
    "\n",
    "# line plot, scatter plot, bar chart, histogram ...\n",
    "\n",
    "# Matplotlib를 통해서 그려내는 그림은 Figure 객체, Axes 객체, Axis 객체로 구성\n",
    "# matplotlib.figure.Figure 객체 : 플롯이 그려지는 캔버스\n",
    "\n",
    "# Figure 객체는 한 개 이상의 Axes 객체 (하나의 플롯)를 포함하고 있음\n",
    "# 한 개의 Axex 객체는 2개 이상의 Axis 객체(x, y축)을 포함하고 있음.\n",
    "\n",
    "# 서브플롯(subplot) : 하나의 Figure 안에 여러 개의 플롯을 배치하고 싶을 때 사용하는 명령\n",
    "# 기본적으로는 Figure 객체서 서버플롯을 사용하려면 subplot 명령을 통해 Axes 객체를 얻어야 함.\n",
    "  plot 명령만 써도 자동으로 Axes를 생성하도록 처리되어 있음\n",
    "  \n",
    "  - 사용 예\n",
    "  subplot(행, 열, 위치)\n",
    "\n",
    "\n",
    "'''"
   ]
  },
  {
   "cell_type": "code",
   "execution_count": 2,
   "id": "080261ea",
   "metadata": {},
   "outputs": [],
   "source": [
    "import matplotlib as mpl\n",
    "import matplotlib.pylab as plt\n",
    "import numpy as np"
   ]
  },
  {
   "cell_type": "code",
   "execution_count": 9,
   "id": "6becf15a",
   "metadata": {
    "scrolled": true
   },
   "outputs": [
    {
     "data": {
      "text/plain": [
       "(<AxesSubplot:>, <AxesSubplot:>)"
      ]
     },
     "execution_count": 9,
     "metadata": {},
     "output_type": "execute_result"
    },
    {
     "data": {
      "image/png": "[encoded data removed]",
      "text/plain": [
       "<Figure size 432x288 with 2 Axes>"
      ]
     },
     "metadata": {
      "needs_background": "light"
     },
     "output_type": "display_data"
    }
   ],
   "source": [
    "# 서브플롯\n",
    "plt.subplot(2, 1, 1), plt.subplot(2, 1, 2)"
   ]
  },
  {
   "cell_type": "markdown",
   "id": "74048ba5",
   "metadata": {},
   "source": [
    "line plot"
   ]
  },
  {
   "cell_type": "code",
   "execution_count": 5,
   "id": "110bdc72",
   "metadata": {},
   "outputs": [
    {
     "data": {
      "image/png": "[encoded data removed]",
      "text/plain": [
       "<Figure size 432x288 with 1 Axes>"
      ]
     },
     "metadata": {
      "needs_background": "light"
     },
     "output_type": "display_data"
    }
   ],
   "source": [
    "plt.plot([1, 5, 8, 15])        # plot()은 ndarray 객체로 리턴함에 유의 (y축)\n",
    "plt.grid()                     # 선 그려주는 기능\n",
    "plt.show()"
   ]
  },
  {
   "cell_type": "code",
   "execution_count": 8,
   "id": "461507d9",
   "metadata": {},
   "outputs": [
    {
     "data": {
      "image/png": "[encoded data removed]",
      "text/plain": [
       "<Figure size 432x288 with 1 Axes>"
      ]
     },
     "metadata": {
      "needs_background": "light"
     },
     "output_type": "display_data"
    }
   ],
   "source": [
    "# x, y축 모두 데이터 지정하고 그리기\n",
    "# 차트의 스타일 지정 순서 : 색상(color), 마커(maker), 선종류(line style)\n",
    "\n",
    "# plt.plot([100, 200, 300, 400], [1, 4, 10, 17])\n",
    "# plt.plot([100, 200, 300, 400], [1, 4, 10, 17], 'rs--')\n",
    "plt.plot([100, 200, 300, 400], [1, 4, 10, 17], 'm+--')\n",
    "plt.grid()\n",
    "plt.show()"
   ]
  },
  {
   "cell_type": "code",
   "execution_count": null,
   "id": "1d391949",
   "metadata": {},
   "outputs": [],
   "source": [
    "'''\n",
    "# np.linespace (start, stop, num, endpoint, retstep, dtype) \n",
    " - start : 시작값\n",
    " - stop : endpoint가 False로 설정되지 않은 경우 끝 값이 됨.\n",
    " - num : 생성할 샘플 수, 기본값 50, 음수는 될 수 없음\n",
    " - retstep : 샘플간 간격을 설정할 수 있는 step을 반환\n",
    " - dtype : datatype\n",
    "'''"
   ]
  },
  {
   "cell_type": "code",
   "execution_count": 10,
   "id": "eac3e17c",
   "metadata": {},
   "outputs": [
    {
     "data": {
      "text/plain": [
       "array([2.  , 2.25, 2.5 , 2.75, 3.  ])"
      ]
     },
     "execution_count": 10,
     "metadata": {},
     "output_type": "execute_result"
    }
   ],
   "source": [
    "np.linspace(2.0, 3.0, num=5)"
   ]
  },
  {
   "cell_type": "code",
   "execution_count": 12,
   "id": "aa8b676e",
   "metadata": {},
   "outputs": [
    {
     "data": {
      "text/plain": [
       "array([2. , 2.2, 2.4, 2.6, 2.8])"
      ]
     },
     "execution_count": 12,
     "metadata": {},
     "output_type": "execute_result"
    }
   ],
   "source": [
    "np.linspace(2.0, 3.0, num=5, endpoint=False)"
   ]
  },
  {
   "cell_type": "code",
   "execution_count": 13,
   "id": "a3cb2ad9",
   "metadata": {},
   "outputs": [
    {
     "data": {
      "text/plain": [
       "array([2.  , 2.25, 2.5 , 2.75, 3.  ])"
      ]
     },
     "execution_count": 13,
     "metadata": {},
     "output_type": "execute_result"
    }
   ],
   "source": [
    "np.linspace(2.0, 3.0, num=5, endpoint=True)"
   ]
  },
  {
   "cell_type": "code",
   "execution_count": 14,
   "id": "71abb659",
   "metadata": {},
   "outputs": [
    {
     "data": {
      "text/plain": [
       "(array([2.  , 2.25, 2.5 , 2.75, 3.  ]), 0.25)"
      ]
     },
     "execution_count": 14,
     "metadata": {},
     "output_type": "execute_result"
    }
   ],
   "source": [
    "np.linspace(2.0, 3.0, num=5, endpoint=True, retstep=True)"
   ]
  },
  {
   "cell_type": "code",
   "execution_count": 15,
   "id": "3936fcaa",
   "metadata": {},
   "outputs": [
    {
     "name": "stdout",
     "output_type": "stream",
     "text": [
      "[2.   2.25 2.5  2.75 3.  ]\n",
      "0.25\n"
     ]
    }
   ],
   "source": [
    "data, step = np.linspace(2.0, 3.0, num=5, endpoint=True, retstep=True)\n",
    "print(data)\n",
    "print(step)"
   ]
  },
  {
   "cell_type": "code",
   "execution_count": 16,
   "id": "88bcec25",
   "metadata": {},
   "outputs": [],
   "source": [
    "# linespace - plot\n",
    "N = 8\n",
    "y = np.zeros(N)\n",
    "x1 = np.linspace(0, 10, N, endpoint=True)\n",
    "x2 = np.linspace(0, 10, N, endpoint=False)"
   ]
  },
  {
   "cell_type": "code",
   "execution_count": 17,
   "id": "5c4f0297",
   "metadata": {},
   "outputs": [
    {
     "data": {
      "text/plain": [
       "[<matplotlib.lines.Line2D at 0x2ad8e54e5b0>]"
      ]
     },
     "execution_count": 17,
     "metadata": {},
     "output_type": "execute_result"
    },
    {
     "data": {
      "image/png": "[encoded data removed]",
      "text/plain": [
       "<Figure size 432x288 with 1 Axes>"
      ]
     },
     "metadata": {
      "needs_background": "light"
     },
     "output_type": "display_data"
    }
   ],
   "source": [
    "plt.plot(x1, y, 'o')"
   ]
  },
  {
   "cell_type": "code",
   "execution_count": 18,
   "id": "2dea6174",
   "metadata": {},
   "outputs": [
    {
     "data": {
      "text/plain": [
       "[<matplotlib.lines.Line2D at 0x2ad8e59d8b0>]"
      ]
     },
     "execution_count": 18,
     "metadata": {},
     "output_type": "execute_result"
    },
    {
     "data": {
      "image/png": "[encoded data removed]",
      "text/plain": [
       "<Figure size 432x288 with 1 Axes>"
      ]
     },
     "metadata": {
      "needs_background": "light"
     },
     "output_type": "display_data"
    }
   ],
   "source": [
    "plt.plot(x2, y, 'o')"
   ]
  },
  {
   "cell_type": "code",
   "execution_count": null,
   "id": "f292a7d9",
   "metadata": {},
   "outputs": [],
   "source": [
    "'''\n",
    "# ylim : y축의 범위 지정\n",
    "# xlim : x축의 범위 지정\n",
    "'''"
   ]
  },
  {
   "cell_type": "code",
   "execution_count": 21,
   "id": "507e6328",
   "metadata": {},
   "outputs": [
    {
     "data": {
      "image/png": "[encoded data removed]",
      "text/plain": [
       "<Figure size 432x288 with 1 Axes>"
      ]
     },
     "metadata": {
      "needs_background": "light"
     },
     "output_type": "display_data"
    }
   ],
   "source": [
    "plt.plot(x1, y, 'ro')\n",
    "plt.plot(x2, y+0.4, 'o')\n",
    "plt.grid()\n",
    "plt.show()"
   ]
  },
  {
   "cell_type": "code",
   "execution_count": 22,
   "id": "6d9abf57",
   "metadata": {},
   "outputs": [
    {
     "data": {
      "image/png": "[encoded data removed]",
      "text/plain": [
       "<Figure size 432x288 with 1 Axes>"
      ]
     },
     "metadata": {
      "needs_background": "light"
     },
     "output_type": "display_data"
    }
   ],
   "source": [
    "plt.plot(x1, y, 'ro')\n",
    "plt.plot(x2, y+0.4, 'o')\n",
    "plt.ylim([-0.5, 1])\n",
    "plt.grid()\n",
    "plt.show()"
   ]
  },
  {
   "cell_type": "code",
   "execution_count": 23,
   "id": "6191be0e",
   "metadata": {},
   "outputs": [],
   "source": [
    "x1 = np.linspace(0.0, 5.0)\n",
    "x2 = np.linspace(0.0, 2.0)"
   ]
  },
  {
   "cell_type": "code",
   "execution_count": 24,
   "id": "6c2fa655",
   "metadata": {},
   "outputs": [],
   "source": [
    "# cos 함수 그리기\n",
    "y1 = np.cos(2*np.pi*x1)*np.exp(-x1)\n",
    "y2 = np.cos(2*np.pi*x2)"
   ]
  },
  {
   "cell_type": "code",
   "execution_count": 25,
   "id": "f64d4d10",
   "metadata": {},
   "outputs": [
    {
     "data": {
      "image/png": "[encoded data removed]",
      "text/plain": [
       "<Figure size 432x288 with 2 Axes>"
      ]
     },
     "metadata": {
      "needs_background": "light"
     },
     "output_type": "display_data"
    }
   ],
   "source": [
    "ax1 = plt.subplot(2, 1, 1)\n",
    "plt.plot(x1, y1, 'ro-')\n",
    "ax2 = plt.subplot(2, 1, 2)\n",
    "plt.plot(x2, y2, 'bo-')\n",
    "\n",
    "plt.grid()\n",
    "plt.show()"
   ]
  },
  {
   "cell_type": "code",
   "execution_count": null,
   "id": "87180b98",
   "metadata": {},
   "outputs": [],
   "source": [
    "'''\n",
    "# tick : 플롯이나 차트에서 축상의 위치 표시 지점\n",
    "#      : 틱에 씐 숫자나 글자를 틱 라벨(tick label)이라고 하고, 일반적으로 matplotlib가 자동으로 정해줌\n",
    "# xticks, yticks 명령으로 사용자가 수동으로 설정해 줄 수 있다.\n",
    "\n",
    "# 틱 라벨에 수학 기호를 표시하고 싶은 경우 $$ 사이에 LaTeX 수학 문자식을 넣어서 사용\n",
    "'''"
   ]
  },
  {
   "cell_type": "code",
   "execution_count": 32,
   "id": "7e3302d8",
   "metadata": {},
   "outputs": [
    {
     "data": {
      "image/png": "[encoded data removed]",
      "text/plain": [
       "<Figure size 432x288 with 1 Axes>"
      ]
     },
     "metadata": {
      "needs_background": "light"
     },
     "output_type": "display_data"
    }
   ],
   "source": [
    "X = np.linspace(-np.pi, np.pi, 256)\n",
    "C = np.cos(X)\n",
    "plt.plot(X, C)\n",
    "plt.xticks([-np.pi, -np.pi/2, 0, np.pi/2, np.pi], ['$-\\pi$','$-\\pi/2$','$0$','$+\\pi/2$', '$+\\pi$'])\n",
    "plt.yticks([-1, 0, 1], ['low', '0', 'high'])\n",
    "plt.grid()\n",
    "plt.show()"
   ]
  },
  {
   "cell_type": "code",
   "execution_count": null,
   "id": "69fccf00",
   "metadata": {},
   "outputs": [],
   "source": []
  },
  {
   "cell_type": "code",
   "execution_count": null,
   "id": "bcb4cce7",
   "metadata": {},
   "outputs": [],
   "source": []
  },
  {
   "cell_type": "code",
   "execution_count": null,
   "id": "d8589bb8",
   "metadata": {},
   "outputs": [],
   "source": []
  },
  {
   "cell_type": "code",
   "execution_count": null,
   "id": "afc679b1",
   "metadata": {},
   "outputs": [],
   "source": []
  },
  {
   "cell_type": "code",
   "execution_count": null,
   "id": "58f8802e",
   "metadata": {},
   "outputs": [],
   "source": []
  },
  {
   "cell_type": "code",
   "execution_count": null,
   "id": "13a3ef7b",
   "metadata": {},
   "outputs": [],
   "source": []
  },
  {
   "cell_type": "code",
   "execution_count": null,
   "id": "b709a674",
   "metadata": {},
   "outputs": [],
   "source": []
  },
  {
   "cell_type": "code",
   "execution_count": null,
   "id": "d75eabf8",
   "metadata": {},
   "outputs": [],
   "source": []
  },
  {
   "cell_type": "code",
   "execution_count": null,
   "id": "c0bee317",
   "metadata": {},
   "outputs": [],
   "source": []
  },
  {
   "cell_type": "code",
   "execution_count": null,
   "id": "800bf6b2",
   "metadata": {},
   "outputs": [],
   "source": []
  },
  {
   "cell_type": "code",
   "execution_count": null,
   "id": "ae814f50",
   "metadata": {},
   "outputs": [],
   "source": []
  },
  {
   "cell_type": "code",
   "execution_count": null,
   "id": "5d57f7e5",
   "metadata": {},
   "outputs": [],
   "source": []
  },
  {
   "cell_type": "code",
   "execution_count": null,
   "id": "b8c3b60e",
   "metadata": {},
   "outputs": [],
   "source": []
  },
  {
   "cell_type": "code",
   "execution_count": null,
   "id": "52117946",
   "metadata": {},
   "outputs": [],
   "source": []
  }
 ],
 "metadata": {
  "kernelspec": {
   "display_name": "Python 3",
   "language": "python",
   "name": "python3"
  },
  "language_info": {
   "codemirror_mode": {
    "name": "ipython",
    "version": 3
   },
   "file_extension": ".py",
   "mimetype": "text/x-python",
   "name": "python",
   "nbconvert_exporter": "python",
   "pygments_lexer": "ipython3",
   "version": "3.8.8"
  }
 },
 "nbformat": 4,
 "nbformat_minor": 5
}
