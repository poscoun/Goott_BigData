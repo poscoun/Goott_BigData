{
 "cells": [
  {
   "cell_type": "markdown",
   "id": "51ac2f70",
   "metadata": {},
   "source": [
    "# 평가 (Evaluation)"
   ]
  },
  {
   "cell_type": "markdown",
   "id": "dcbd1c4b",
   "metadata": {},
   "source": [
    "## 분류의 성능 평가 지표\n",
    "\n",
    " * 정확도 (Accuracy)\n",
    " * 오차행렬 (Confusion Matrix)\n",
    " * 정밀도 (Precision)\n",
    " * 재현율 (Recall)\n",
    " * F1 스코어\n",
    " * ROC AUC"
   ]
  },
  {
   "cell_type": "markdown",
   "id": "84b33f4c",
   "metadata": {},
   "source": [
    "## 1) 정확도 (Accuracy)"
   ]
  },
  {
   "cell_type": "code",
   "execution_count": 4,
   "id": "fb14fc35",
   "metadata": {},
   "outputs": [
    {
     "data": {
      "text/plain": [
       "'\\n# 정확도 : 실제 데이터에서 예측 데이터가 얼마나 같은지를 판단하는 지표\\n                  예측 결과와 동일한 데이터 건수\\n        정확도 = --------------------------------\\n                     전체 예측 데이터 건수\\n                     \\n        : 직관적으로 모델 예측 성능을 나타내는 지표\\n        : 주의 - 이거 하나만으로 성능을 평가하면 안됨 (왜곡이 발생할 수 있음)\\n    ex) 타이타닉 데이터에서 다른 조건 없이 성별 하나만 가지고 모델이 학습을 하면 여성은 생존, 남성은 사망 이런 결과가 도출 \\n'"
      ]
     },
     "execution_count": 4,
     "metadata": {},
     "output_type": "execute_result"
    }
   ],
   "source": [
    "'''\n",
    "# 정확도 : 실제 데이터에서 예측 데이터가 얼마나 같은지를 판단하는 지표\n",
    "                  예측 결과와 동일한 데이터 건수\n",
    "        정확도 = --------------------------------\n",
    "                     전체 예측 데이터 건수\n",
    "                     \n",
    "        : 직관적으로 모델 예측 성능을 나타내는 지표\n",
    "        : 주의 - 이거 하나만으로 성능을 평가하면 안됨 (왜곡이 발생할 수 있음)\n",
    "    ex) 타이타닉 데이터에서 다른 조건 없이 성별 하나만 가지고 모델이 학습을 하면 여성은 생존, 남성은 사망 이런 결과가 도출 \n",
    "'''"
   ]
  },
  {
   "cell_type": "code",
   "execution_count": 5,
   "id": "7f99420e",
   "metadata": {},
   "outputs": [],
   "source": [
    "from sklearn.base import BaseEstimator\n",
    "import numpy as np\n",
    "\n",
    "class DummyClassifier(BaseEstimator):\n",
    "    def fit(self, X, y=None):  # 학습하지 않겠다\n",
    "        pass\n",
    "    \n",
    "    def predict(self, X):\n",
    "        pred = np.zeros((X.shape[0], 1))\n",
    "        for i in range(X.shape[0]):\n",
    "            if X['Sex'].iloc[i] == 1:\n",
    "                pred[i] = 0\n",
    "            else :\n",
    "                pred[i] = 1\n",
    "        return pred"
   ]
  },
  {
   "cell_type": "code",
   "execution_count": 6,
   "id": "26f89d7c",
   "metadata": {},
   "outputs": [],
   "source": [
    "# 내가 만든 알고리즘을 통해 타이타닉 생존자 예측을 다시 수행\n",
    "\n",
    "from sklearn.preprocessing import LabelEncoder\n",
    "\n",
    "# null 처리 함수\n",
    "def fillna(df):\n",
    "    df['Age'].fillna(titanic_df['Age'].mean(), inplace=True)\n",
    "    df['Cabin'].fillna('N', inplace=True)\n",
    "    df['Embarked'].fillna('N', inplace=True)\n",
    "    return df\n",
    "\n",
    "# 머신러닝 알고리즘에게 불필요한 속성 제거\n",
    "def drop_features(df):\n",
    "    df.drop(['PassengerId', 'Name', 'Ticket'], axis=1, inplace=True)\n",
    "    return df\n",
    "\n",
    "# 레이블 인코딩\n",
    "def encoding_features(df):\n",
    "    df['Cabin'] = df['Cabin'].str[:1]\n",
    "    features = ['Cabin', 'Sex', 'Embarked']\n",
    "    for feature in features:\n",
    "        le = LabelEncoder()\n",
    "        le = le.fit(df[feature])\n",
    "        df[feature] = le.transform(df[feature])\n",
    "    return df\n",
    "\n",
    "# 최종 전처리 수행\n",
    "def transform_features(df):\n",
    "    df = fillna(df)\n",
    "    df = drop_features(df)\n",
    "    df = encoding_features(df)\n",
    "    return df"
   ]
  },
  {
   "cell_type": "code",
   "execution_count": 7,
   "id": "31639305",
   "metadata": {},
   "outputs": [],
   "source": [
    "from sklearn.model_selection import train_test_split\n",
    "from sklearn.metrics import accuracy_score\n",
    "import pandas as pd\n",
    "\n",
    "titanic_df = pd.read_csv('data/titanic_train.csv')\n",
    "\n",
    "# 레이블 데이터 셋\n",
    "y_titanic_df = titanic_df['Survived']\n",
    "X_titanic_df = titanic_df.drop('Survived', axis=1)\n",
    "\n",
    "# 학습할 피처 데이터 셋 - 전체 전처리\n",
    "X_titanic_df = transform_features(X_titanic_df)\n",
    "\n",
    "# 학습 세트와 테스트 데이터 세트 분리\n",
    "from sklearn.model_selection import train_test_split\n",
    "\n",
    "X_train, X_test, y_train, y_test = train_test_split(X_titanic_df, y_titanic_df, test_size=0.2, random_state=11)"
   ]
  },
  {
   "cell_type": "code",
   "execution_count": 8,
   "id": "98e98d77",
   "metadata": {},
   "outputs": [
    {
     "name": "stdout",
     "output_type": "stream",
     "text": [
      "DummyClassifier accuracy : 0.8324\n"
     ]
    }
   ],
   "source": [
    "# 내가 만든 학습알고리즘 이용하여 학습/예측/평가 수행\n",
    "my_clf = DummyClassifier()\n",
    "my_clf.fit(X_train, y_train)\n",
    "\n",
    "my_pred = my_clf.predict(X_test)\n",
    "print('DummyClassifier accuracy : {0:.4f}'.format(accuracy_score(y_test, my_pred)))\n"
   ]
  },
  {
   "cell_type": "code",
   "execution_count": 9,
   "id": "c2378dca",
   "metadata": {},
   "outputs": [],
   "source": [
    "# MNIST 데이터세트\n",
    "from sklearn.datasets import load_digits\n",
    "from sklearn.model_selection import train_test_split\n",
    "from sklearn.base import BaseEstimator\n",
    "from sklearn.metrics import accuracy_score\n",
    "import numpy as np\n",
    "import pandas as pd"
   ]
  },
  {
   "cell_type": "code",
   "execution_count": 10,
   "id": "5fe1c6c3",
   "metadata": {},
   "outputs": [
    {
     "data": {
      "text/plain": [
       "array([[ 0.,  0.,  5., ...,  0.,  0.,  0.],\n",
       "       [ 0.,  0.,  0., ..., 10.,  0.,  0.],\n",
       "       [ 0.,  0.,  0., ..., 16.,  9.,  0.],\n",
       "       ...,\n",
       "       [ 0.,  0.,  1., ...,  6.,  0.,  0.],\n",
       "       [ 0.,  0.,  2., ..., 12.,  0.,  0.],\n",
       "       [ 0.,  0., 10., ..., 12.,  1.,  0.]])"
      ]
     },
     "execution_count": 10,
     "metadata": {},
     "output_type": "execute_result"
    }
   ],
   "source": [
    "digits = load_digits()\n",
    "\n",
    "digits.data"
   ]
  },
  {
   "cell_type": "code",
   "execution_count": 11,
   "id": "de1de74b",
   "metadata": {},
   "outputs": [
    {
     "data": {
      "text/plain": [
       "(1797, 64)"
      ]
     },
     "execution_count": 11,
     "metadata": {},
     "output_type": "execute_result"
    }
   ],
   "source": [
    "digits.data.shape"
   ]
  },
  {
   "cell_type": "code",
   "execution_count": 12,
   "id": "2b05941b",
   "metadata": {},
   "outputs": [
    {
     "data": {
      "text/plain": [
       "(1797,)"
      ]
     },
     "execution_count": 12,
     "metadata": {},
     "output_type": "execute_result"
    }
   ],
   "source": [
    "digits.target.shape"
   ]
  },
  {
   "cell_type": "code",
   "execution_count": 13,
   "id": "b4b137ab",
   "metadata": {},
   "outputs": [
    {
     "data": {
      "text/plain": [
       "array([0, 1, 2, ..., 8, 9, 8])"
      ]
     },
     "execution_count": 13,
     "metadata": {},
     "output_type": "execute_result"
    }
   ],
   "source": [
    "digits.target"
   ]
  },
  {
   "cell_type": "code",
   "execution_count": 14,
   "id": "bb63d2af",
   "metadata": {},
   "outputs": [
    {
     "data": {
      "text/plain": [
       "array([False, False, False, ..., False, False, False])"
      ]
     },
     "execution_count": 14,
     "metadata": {},
     "output_type": "execute_result"
    }
   ],
   "source": [
    "digits.target == 7"
   ]
  },
  {
   "cell_type": "code",
   "execution_count": 15,
   "id": "feb47e23",
   "metadata": {},
   "outputs": [],
   "source": [
    "# digits번호가 7이면 True -> astype(int) : 1로 변환, 나머지는 False : 0 ==> 불균형한 데이터 세트\n",
    "y = (digits.target == 7).astype(int)\n",
    "X_train, X_test, y_train, y_test = train_test_split(digits.data, y, random_state=11)"
   ]
  },
  {
   "cell_type": "code",
   "execution_count": 16,
   "id": "abb5038c",
   "metadata": {},
   "outputs": [
    {
     "data": {
      "text/plain": [
       "(450,)"
      ]
     },
     "execution_count": 16,
     "metadata": {},
     "output_type": "execute_result"
    }
   ],
   "source": [
    "# 불균형 레이블 데이터 분포도 확인\n",
    "y_test.shape"
   ]
  },
  {
   "cell_type": "code",
   "execution_count": 17,
   "id": "42b80af5",
   "metadata": {},
   "outputs": [
    {
     "data": {
      "text/plain": [
       "0    405\n",
       "1     45\n",
       "dtype: int64"
      ]
     },
     "execution_count": 17,
     "metadata": {},
     "output_type": "execute_result"
    }
   ],
   "source": [
    "# 불균형 레이블의 0과 1 개수\n",
    "pd.Series(y_test).value_counts()"
   ]
  },
  {
   "cell_type": "code",
   "execution_count": 18,
   "id": "2be8e742",
   "metadata": {},
   "outputs": [],
   "source": [
    "class FakeClassifier(BaseEstimator):\n",
    "    def fit(self, X, y):\n",
    "        pass\n",
    "    \n",
    "    # 입력값으로 들어오는 X, 데이터셋 크기만큼 모두 0으로 만들어서 return\n",
    "    def predict(self, X):\n",
    "        return np.zeros((len(X), 1), dtype=bool)"
   ]
  },
  {
   "cell_type": "code",
   "execution_count": 19,
   "id": "9047c72c",
   "metadata": {},
   "outputs": [
    {
     "name": "stdout",
     "output_type": "stream",
     "text": [
      "예측을 모두 0으로 하고 있을 때 정확도 : 0.9000.\n"
     ]
    }
   ],
   "source": [
    "# FakeClassifier로 학습/예측/정확도 평가\n",
    "fake_clf = FakeClassifier()\n",
    "fake_clf.fit(X_train, y_train)\n",
    "fake_pred = fake_clf.predict(X_test)\n",
    "\n",
    "print('예측을 모두 0으로 하고 있을 때 정확도 : {0:.4f}.'.format(accuracy_score(y_test, fake_pred)))\n",
    "\n",
    "# 불균형한 데이터일 경우 정확도 평가 지표의 맹점이 더 잘 드러남"
   ]
  },
  {
   "cell_type": "code",
   "execution_count": null,
   "id": "d02081ad",
   "metadata": {},
   "outputs": [],
   "source": []
  },
  {
   "cell_type": "markdown",
   "id": "596a9896",
   "metadata": {},
   "source": [
    "## 2) 오차 행렬"
   ]
  },
  {
   "cell_type": "code",
   "execution_count": 20,
   "id": "039cd79a",
   "metadata": {},
   "outputs": [],
   "source": [
    "from IPython.display import Image"
   ]
  },
  {
   "cell_type": "code",
   "execution_count": 21,
   "id": "150ac447",
   "metadata": {},
   "outputs": [
    {
     "data": {
      "image/png": "[encoded data removed]",
      "text/plain": [
       "<IPython.core.display.Image object>"
      ]
     },
     "execution_count": 21,
     "metadata": {},
     "output_type": "execute_result"
    }
   ],
   "source": [
    "Image('data/confusion_matrix.png')"
   ]
  },
  {
   "cell_type": "code",
   "execution_count": 22,
   "id": "47bee7df",
   "metadata": {},
   "outputs": [
    {
     "data": {
      "text/plain": [
       "'\\n# 오차 행렬(혼동 행렬)\\n : 학습된 분류 모델이 예측을 수행하면서 얼마나 헷갈리고(confusion) 있는지도 함께 보여주는 지표\\n : 예측 오류가 얼마인지와 더불어 어떠한 유형의 예측 오류가 발생하고 있는지도 함께 보여주는 지표\\n \\n# 이 오차행렬을 이용하면 더 명확한 정확도 공식도 도출가능\\n\\n# 정확도 = 예측 결과와 실제 값이 동일한 건수 / 전체 데이터 수\\n            (TN + TP)\\n  -----------------------------\\n       (TN + FP + FN + TP)\\n'"
      ]
     },
     "execution_count": 22,
     "metadata": {},
     "output_type": "execute_result"
    }
   ],
   "source": [
    "'''\n",
    "# 오차 행렬(혼동 행렬)\n",
    " : 학습된 분류 모델이 예측을 수행하면서 얼마나 헷갈리고(confusion) 있는지도 함께 보여주는 지표\n",
    " : 예측 오류가 얼마인지와 더불어 어떠한 유형의 예측 오류가 발생하고 있는지도 함께 보여주는 지표\n",
    " \n",
    "# 이 오차행렬을 이용하면 더 명확한 정확도 공식도 도출가능\n",
    "\n",
    "# 정확도 = 예측 결과와 실제 값이 동일한 건수 / 전체 데이터 수\n",
    "            (TN + TP)\n",
    "  -----------------------------\n",
    "       (TN + FP + FN + TP)\n",
    "'''"
   ]
  },
  {
   "cell_type": "code",
   "execution_count": 23,
   "id": "7a7682bc",
   "metadata": {},
   "outputs": [
    {
     "data": {
      "text/plain": [
       "array([[405,   0],\n",
       "       [ 45,   0]], dtype=int64)"
      ]
     },
     "execution_count": 23,
     "metadata": {},
     "output_type": "execute_result"
    }
   ],
   "source": [
    "from sklearn.metrics import confusion_matrix\n",
    "\n",
    "confusion_matrix(y_test, fake_pred)"
   ]
  },
  {
   "cell_type": "code",
   "execution_count": null,
   "id": "b71fb24a",
   "metadata": {},
   "outputs": [],
   "source": []
  },
  {
   "cell_type": "markdown",
   "id": "33ccd02d",
   "metadata": {},
   "source": [
    "## 3)정밀도와 재현율"
   ]
  },
  {
   "cell_type": "code",
   "execution_count": 24,
   "id": "9cc27393",
   "metadata": {},
   "outputs": [
    {
     "data": {
      "text/plain": [
       "'\\n# 불균형한 데이터 세트에서 정확도보다 더 선호되는 평가 지표들\\n# Positive 데이터 세트의 예측 성능에 좀 더 초점을 맞춘 평가 지표들\\n\\n# 정밀도 = TP / (FP + TP)\\n# (양성 예측도)\\n\\n#  재현율 = TP / (FN + TP)\\n# : 실제 양성 중 정확히 양성이라고 식별된 사례의 비율. 민감도(Sensitive), TPR(True Positive Rate)\\n\\n==================================================================================================\\n# 정밀도와 재현율은 업무 특성에 따라 특정 평가 지표가 더 중요한 지표로 간주 될 수 있음에 유의!!\\n - 재현율이 상대적으로 더 중요한 지표 : 실제 Positive 양성인 데이터 예측을 Negative로 잘못 판단하게 되면 업무 상 큰 영향이 발생하는 경우\\n   ex) 암 판단 모델, 금융 사기 적발 모델\\n\\n - 정밀도가 상대적으로 더 중요한 지표 : 실제 Negative 음성인 데이터 예측을 Positive 양성으로 잘못 판단하게 되면 업무상 큰 영향이 발생하는 경우\\n   ex) 스팸 메일 여부를 판단하는 모델\\n     : 실제 Negative인 일반메일을 Positive 인 스팸메일로 분류 => 사용자가 메일 자체를 못받음\\n\\n=================================================================================================\\n# 정리\\n : 재현율과 정밀도 모두 TP를 높이는데 초점.\\n : 재현율은 FN을 낮추기, 정밀도는 FP를 낮추는데 초점\\n : 그러므로 이 두 평가지표는 서로 보완적\\n : 결국 가장 좋은 성능은 둘 모두 높은 수치를 얻는 것. 반면에 둘 중 하나만 지표가 높고 하나가 낮다면 바람직 하지 않음\\n \\n'"
      ]
     },
     "execution_count": 24,
     "metadata": {},
     "output_type": "execute_result"
    }
   ],
   "source": [
    "'''\n",
    "# 불균형한 데이터 세트에서 정확도보다 더 선호되는 평가 지표들\n",
    "# Positive 데이터 세트의 예측 성능에 좀 더 초점을 맞춘 평가 지표들\n",
    "\n",
    "# 정밀도 = TP / (FP + TP)\n",
    "# (양성 예측도)\n",
    "\n",
    "#  재현율 = TP / (FN + TP)\n",
    "# : 실제 양성 중 정확히 양성이라고 식별된 사례의 비율. 민감도(Sensitive), TPR(True Positive Rate)\n",
    "\n",
    "==================================================================================================\n",
    "# 정밀도와 재현율은 업무 특성에 따라 특정 평가 지표가 더 중요한 지표로 간주 될 수 있음에 유의!!\n",
    " - 재현율이 상대적으로 더 중요한 지표 : 실제 Positive 양성인 데이터 예측을 Negative로 잘못 판단하게 되면 업무 상 큰 영향이 발생하는 경우\n",
    "   ex) 암 판단 모델, 금융 사기 적발 모델\n",
    "\n",
    " - 정밀도가 상대적으로 더 중요한 지표 : 실제 Negative 음성인 데이터 예측을 Positive 양성으로 잘못 판단하게 되면 업무상 큰 영향이 발생하는 경우\n",
    "   ex) 스팸 메일 여부를 판단하는 모델\n",
    "     : 실제 Negative인 일반메일을 Positive 인 스팸메일로 분류 => 사용자가 메일 자체를 못받음\n",
    "\n",
    "=================================================================================================\n",
    "# 정리\n",
    " : 재현율과 정밀도 모두 TP를 높이는데 초점.\n",
    " : 재현율은 FN을 낮추기, 정밀도는 FP를 낮추는데 초점\n",
    " : 그러므로 이 두 평가지표는 서로 보완적\n",
    " : 결국 가장 좋은 성능은 둘 모두 높은 수치를 얻는 것. 반면에 둘 중 하나만 지표가 높고 하나가 낮다면 바람직 하지 않음\n",
    " \n",
    "'''"
   ]
  },
  {
   "cell_type": "code",
   "execution_count": 25,
   "id": "013a3033",
   "metadata": {},
   "outputs": [
    {
     "name": "stdout",
     "output_type": "stream",
     "text": [
      "정밀도 :  0.0\n",
      "재현율 :  0.0\n"
     ]
    },
    {
     "name": "stderr",
     "output_type": "stream",
     "text": [
      "C:\\ProgramData\\Anaconda3\\lib\\site-packages\\sklearn\\metrics\\_classification.py:1245: UndefinedMetricWarning: Precision is ill-defined and being set to 0.0 due to no predicted samples. Use `zero_division` parameter to control this behavior.\n",
      "  _warn_prf(average, modifier, msg_start, len(result))\n"
     ]
    }
   ],
   "source": [
    "# FakeClassfier 예측 결과로 정밀도/재현율 측정\n",
    "from sklearn.metrics import accuracy_score, precision_score, recall_score\n",
    "\n",
    "print('정밀도 : ', precision_score(y_test, fake_pred))\n",
    "print('재현율 : ', recall_score(y_test, fake_pred))"
   ]
  },
  {
   "cell_type": "code",
   "execution_count": 26,
   "id": "10a5c1a0",
   "metadata": {},
   "outputs": [],
   "source": [
    "# 새로운 평가지표로 타이타닉 모델 재평가 - 로지스틱 회귀\n",
    "from sklearn.linear_model import LogisticRegression\n",
    "\n",
    "titanic_df = pd.read_csv('data/titanic_train.csv')\n",
    "y_titanic_df = titanic_df['Survived']\n",
    "X_titanic_df = titanic_df.drop('Survived', axis=1)\n",
    "X_titanic_df = transform_features(X_titanic_df)"
   ]
  },
  {
   "cell_type": "code",
   "execution_count": 27,
   "id": "8dbf5ed1",
   "metadata": {},
   "outputs": [],
   "source": [
    "X_train, X_test, y_train, y_test = train_test_split(X_titanic_df, y_titanic_df, test_size=0.2, random_state=11)"
   ]
  },
  {
   "cell_type": "code",
   "execution_count": 48,
   "id": "57081a00",
   "metadata": {},
   "outputs": [],
   "source": [
    "# 오차행렬, 정밀도, 재현율 함수\n",
    "def get_clf_eval(y_test, pred):\n",
    "    confusion = confusion_matrix(y_test, pred)\n",
    "    accuracy = accuracy_score(y_test, pred)\n",
    "    precision = precision_score(y_test, pred)\n",
    "    recall = recall_score(y_test, pred)\n",
    "    print(confusion)\n",
    "    print('-------------------------------------')\n",
    "    print('정확도 : ', accuracy)\n",
    "    print('정밀도 : ', precision)\n",
    "    print('재현율 : ', recall)"
   ]
  },
  {
   "cell_type": "code",
   "execution_count": 49,
   "id": "c9aac441",
   "metadata": {},
   "outputs": [
    {
     "name": "stdout",
     "output_type": "stream",
     "text": [
      "[[104  14]\n",
      " [ 13  48]]\n",
      "-------------------------------------\n",
      "정확도 :  0.8491620111731844\n",
      "정밀도 :  0.7741935483870968\n",
      "재현율 :  0.7868852459016393\n"
     ]
    },
    {
     "name": "stderr",
     "output_type": "stream",
     "text": [
      "C:\\ProgramData\\Anaconda3\\lib\\site-packages\\sklearn\\linear_model\\_logistic.py:763: ConvergenceWarning: lbfgs failed to converge (status=1):\n",
      "STOP: TOTAL NO. of ITERATIONS REACHED LIMIT.\n",
      "\n",
      "Increase the number of iterations (max_iter) or scale the data as shown in:\n",
      "    https://scikit-learn.org/stable/modules/preprocessing.html\n",
      "Please also refer to the documentation for alternative solver options:\n",
      "    https://scikit-learn.org/stable/modules/linear_model.html#logistic-regression\n",
      "  n_iter_i = _check_optimize_result(\n"
     ]
    }
   ],
   "source": [
    "lr_clf = LogisticRegression()\n",
    "\n",
    "lr_clf.fit(X_train, y_train)\n",
    "\n",
    "pred = lr_clf.predict(X_test)\n",
    "\n",
    "get_clf_eval(y_test, pred)"
   ]
  },
  {
   "cell_type": "markdown",
   "id": "1974abe9",
   "metadata": {},
   "source": [
    "### 3-1) Precision/Recall Trade-Off (정밀도/재현율 트레이드 오프)"
   ]
  },
  {
   "cell_type": "code",
   "execution_count": 50,
   "id": "4038188f",
   "metadata": {},
   "outputs": [
    {
     "data": {
      "text/plain": [
       "'\\n# 분류하려는 업무 특성 상 분류의 결정임계값(THreshold)을 조정해 정밀도 또는 재현율의 수치를 조정 가능\\n  그러나 정밀도와 재현율은 상호 보완적인 지표이므로 어느 한쪽을 높이면 다른 한쪽 수치는 떨어짐.\\n  그래서 정밀도 / 재현율의 트레이드 오프 라고 함.\\n\\n# 결정임계값\\n : 보통 모델이 학습을 할 때 특정 값을 기준으로 이 기준값보다 확률이 크면 Positive, 낮으면 Negative라고 결정을 함\\n : 이 기준값이 결정임계값. 보통 이진 분류에서는 0.5가 보통\\n'"
      ]
     },
     "execution_count": 50,
     "metadata": {},
     "output_type": "execute_result"
    }
   ],
   "source": [
    "'''\n",
    "# 분류하려는 업무 특성 상 분류의 결정임계값(THreshold)을 조정해 정밀도 또는 재현율의 수치를 조정 가능\n",
    "  그러나 정밀도와 재현율은 상호 보완적인 지표이므로 어느 한쪽을 높이면 다른 한쪽 수치는 떨어짐.\n",
    "  그래서 정밀도 / 재현율의 트레이드 오프 라고 함.\n",
    "\n",
    "# 결정임계값\n",
    " : 보통 모델이 학습을 할 때 특정 값을 기준으로 이 기준값보다 확률이 크면 Positive, 낮으면 Negative라고 결정을 함\n",
    " : 이 기준값이 결정임계값. 보통 이진 분류에서는 0.5가 보통\n",
    "'''"
   ]
  },
  {
   "cell_type": "code",
   "execution_count": 51,
   "id": "6be60265",
   "metadata": {},
   "outputs": [
    {
     "data": {
      "text/plain": [
       "(179, 2)"
      ]
     },
     "execution_count": 51,
     "metadata": {},
     "output_type": "execute_result"
    }
   ],
   "source": [
    "# predict_proba() : 개별 데이터별로 예측 확률을 반환하는 메소드\n",
    "pred_proba = lr_clf.predict_proba(X_test)\n",
    "\n",
    "pred_proba.shape"
   ]
  },
  {
   "cell_type": "code",
   "execution_count": 52,
   "id": "4336fb04",
   "metadata": {},
   "outputs": [
    {
     "data": {
      "text/plain": [
       "array([[0.46196064, 0.53803936],\n",
       "       [0.87860795, 0.12139205],\n",
       "       [0.87714215, 0.12285785]])"
      ]
     },
     "execution_count": 52,
     "metadata": {},
     "output_type": "execute_result"
    }
   ],
   "source": [
    "# 예측 결과값 위에서 3개만 추출 \n",
    "pred_proba[:3]"
   ]
  },
  {
   "cell_type": "code",
   "execution_count": 53,
   "id": "385ac6a1",
   "metadata": {},
   "outputs": [
    {
     "name": "stdout",
     "output_type": "stream",
     "text": [
      "[[0.46196064 0.53803936]\n",
      " [0.87860795 0.12139205]\n",
      " [0.87714215 0.12285785]] ------------ [[1]\n",
      " [0]\n",
      " [0]]\n"
     ]
    }
   ],
   "source": [
    "# 앞의 클래스가 선택되면 0, 뒤의 클래스가 선택되면 1로 표기\n",
    "pred = lr_clf.predict(X_test)\n",
    "\n",
    "print(pred_proba[:3], '------------', pred.reshape(-1, 1)[:3])"
   ]
  },
  {
   "cell_type": "code",
   "execution_count": 54,
   "id": "c4716a4b",
   "metadata": {},
   "outputs": [],
   "source": [
    "# Binarizer : 사이킷런에서 제공하는 임계값을 조절할 수 있는 클래스\n",
    "from sklearn.preprocessing import Binarizer\n",
    "\n",
    "X = [[1, -1, 2],\n",
    "    [2, 0, -0],\n",
    "    [0, 1.1, .12]]"
   ]
  },
  {
   "cell_type": "code",
   "execution_count": 55,
   "id": "c35a65cf",
   "metadata": {},
   "outputs": [
    {
     "data": {
      "text/plain": [
       "[[1, -1, 2], [2, 0, 0], [0, 1.1, 0.12]]"
      ]
     },
     "execution_count": 55,
     "metadata": {},
     "output_type": "execute_result"
    }
   ],
   "source": [
    "X"
   ]
  },
  {
   "cell_type": "code",
   "execution_count": 56,
   "id": "5c7ff2bd",
   "metadata": {},
   "outputs": [
    {
     "data": {
      "text/plain": [
       "array([[0., 0., 1.],\n",
       "       [1., 0., 0.],\n",
       "       [0., 0., 0.]])"
      ]
     },
     "execution_count": 56,
     "metadata": {},
     "output_type": "execute_result"
    }
   ],
   "source": [
    "# threshold(결정 임계값) 보다 같거나 작으면 0 (negative), 크면 1(positive) 로 반환\n",
    "binarizer = Binarizer(threshold=1.1)\n",
    "\n",
    "binarizer.fit_transform(X)"
   ]
  },
  {
   "cell_type": "code",
   "execution_count": 57,
   "id": "7ff0773a",
   "metadata": {},
   "outputs": [
    {
     "name": "stdout",
     "output_type": "stream",
     "text": [
      "[[104  14]\n",
      " [ 13  48]]\n",
      "-------------------------------------\n",
      "정확도 :  0.8491620111731844\n",
      "정밀도 :  0.7741935483870968\n",
      "재현율 :  0.7868852459016393\n"
     ]
    }
   ],
   "source": [
    "# 위 타이타닉 예제 결정임계값 0.5로 확인\n",
    "\n",
    "# Positive 데이터 하나만 가지고 확인\n",
    "pred_proba_1 = pred_proba[:,1].reshape(-1, 1)\n",
    "\n",
    "binarizer = Binarizer(threshold=0.5).fit(pred_proba_1)\n",
    "\n",
    "custom_pred = binarizer.transform(pred_proba_1)\n",
    "\n",
    "get_clf_eval(y_test, custom_pred)"
   ]
  },
  {
   "cell_type": "code",
   "execution_count": 58,
   "id": "8ea2f2e3",
   "metadata": {},
   "outputs": [
    {
     "name": "stdout",
     "output_type": "stream",
     "text": [
      "[[98 20]\n",
      " [10 51]]\n",
      "-------------------------------------\n",
      "정확도 :  0.8324022346368715\n",
      "정밀도 :  0.7183098591549296\n",
      "재현율 :  0.8360655737704918\n"
     ]
    }
   ],
   "source": [
    "# 위 타이타닉 예제 결정임계값 0.4로 확인\n",
    "\n",
    "# Positive 데이터 하나만 가지고 확인\n",
    "pred_proba_1 = pred_proba[:,1].reshape(-1, 1)\n",
    "\n",
    "binarizer = Binarizer(threshold=0.4).fit(pred_proba_1)\n",
    "\n",
    "custom_pred = binarizer.transform(pred_proba_1)\n",
    "\n",
    "get_clf_eval(y_test, custom_pred)"
   ]
  },
  {
   "cell_type": "code",
   "execution_count": 59,
   "id": "69344fa7",
   "metadata": {},
   "outputs": [],
   "source": [
    "# precision_recall_curve() : 임계값에 따른 정밀도/재현율 값 추출\n",
    "from sklearn.metrics import precision_recall_curve"
   ]
  },
  {
   "cell_type": "code",
   "execution_count": 62,
   "id": "6fe23594",
   "metadata": {},
   "outputs": [
    {
     "name": "stdout",
     "output_type": "stream",
     "text": [
      "반환된 결정 임계값 shape (143,)\n",
      "반환된 precisions shape (144,)\n",
      "반환된 recalls shape (144,)\n"
     ]
    }
   ],
   "source": [
    "# 레이블값이 1일 때의 예측 확률을 추출\n",
    "pred_proba_class_1 = lr_clf.predict_proba(X_test)[:, 1]\n",
    "\n",
    "# 실제 데이터 셋과 레이블 값이 1일 때의 예측확률을 precision_recall_curve의 인자로 대입\n",
    "precisions, recalls, thresholds = precision_recall_curve(y_test, pred_proba_class_1)\n",
    "\n",
    "\n",
    "print('반환된 결정 임계값 shape', thresholds.shape)\n",
    "print('반환된 precisions shape', precisions.shape)\n",
    "print('반환된 recalls shape', recalls.shape)"
   ]
  },
  {
   "cell_type": "code",
   "execution_count": 63,
   "id": "649f4267",
   "metadata": {},
   "outputs": [
    {
     "name": "stdout",
     "output_type": "stream",
     "text": [
      "샘플 추출을 위한 임계값 배열의 index 10개 :  [  0  15  30  45  60  75  90 105 120 135]\n",
      "샘플용 10개의 임계값 :  [0.1  0.12 0.14 0.19 0.28 0.4  0.56 0.67 0.82 0.95]\n"
     ]
    }
   ],
   "source": [
    "# 샘플로 10개만 추출 - 임계값(15step)\n",
    "thr_index = np.arange(0, thresholds.shape[0], 15)\n",
    "print('샘플 추출을 위한 임계값 배열의 index 10개 : ', thr_index)\n",
    "print('샘플용 10개의 임계값 : ', np.round(thresholds[thr_index], 2))"
   ]
  },
  {
   "cell_type": "code",
   "execution_count": 64,
   "id": "b8ab72c3",
   "metadata": {},
   "outputs": [
    {
     "name": "stdout",
     "output_type": "stream",
     "text": [
      "샘플 임계값별 정밀도 :  [0.389 0.44  0.466 0.539 0.647 0.729 0.836 0.949 0.958 1.   ]\n",
      "샘플 임계값별 재현율 :  [1.    0.967 0.902 0.902 0.902 0.836 0.754 0.607 0.377 0.148]\n"
     ]
    }
   ],
   "source": [
    "# 15step 단위로 추출된 임계값에 따른 정밀도와 재현율\n",
    "print('샘플 임계값별 정밀도 : ', np.round(precisions[thr_index], 3))\n",
    "print('샘플 임계값별 재현율 : ', np.round(recalls[thr_index], 3))"
   ]
  },
  {
   "cell_type": "code",
   "execution_count": 65,
   "id": "b7d099af",
   "metadata": {},
   "outputs": [],
   "source": [
    "# 정밀도-재현율 변화 곡선\n",
    "import matplotlib.pyplot as plt\n",
    "import matplotlib.ticker as ticker"
   ]
  },
  {
   "cell_type": "code",
   "execution_count": 67,
   "id": "7c3d3fdc",
   "metadata": {},
   "outputs": [],
   "source": [
    "def precision_recall_curve_plt(y_test, pred_proba_class_1):\n",
    "    precisions, recalls, thresholds = precision_recall_curve(y_test, pred_proba_class_1)\n",
    "    \n",
    "    # x축을 threshold값, y축은 정밀도, 재현율 값\n",
    "    plt.figure(figsize=(8, 6))\n",
    "    thresholds_boundary = thresholds.shape[0]\n",
    "    plt.plot(thresholds, precisions[0:thresholds_boundary], linestyle='--', label='precision')\n",
    "    plt.plot(thresholds, recalls[0:thresholds_boundary], label='recall')\n",
    "    \n",
    "    # x 축 scale을 0.1단위로 변경\n",
    "    start, end = plt.xlim()\n",
    "    plt.xticks(np.round(np.arange(start, end, 0.1), 2))\n",
    "    \n",
    "    # 각 축에 label \n",
    "    plt.xlabel('Treshold value')\n",
    "    plt.ylabel('Precision & Recallvalue')\n",
    "    plt.legend()\n",
    "    plt.grid()\n",
    "    plt.show()"
   ]
  },
  {
   "cell_type": "code",
   "execution_count": 69,
   "id": "ee823094",
   "metadata": {},
   "outputs": [
    {
     "data": {
      "image/png": "[encoded data removed]",
      "text/plain": [
       "<Figure size 576x432 with 1 Axes>"
      ]
     },
     "metadata": {
      "needs_background": "light"
     },
     "output_type": "display_data"
    }
   ],
   "source": [
    "precision_recall_curve_plt(y_test, lr_clf.predict_proba(X_test)[:, 1])"
   ]
  },
  {
   "cell_type": "code",
   "execution_count": null,
   "id": "53eb9fcb",
   "metadata": {},
   "outputs": [],
   "source": [
    "'''\n",
    "# 정리\n",
    ": 임계값의 변경은 업무 환경에 맞게 두 개의 수치를 상호 보완할 수 있는 수준에서 적용해야 한다\n",
    "  단순히 하나의 성능 지표 수치를 높이기 위한 수단으로 사용하면 안된다\n",
    "  \n",
    ": 최근에는 과적합을 없애는 방법으로도 많이 사용 중\n",
    "'''"
   ]
  },
  {
   "cell_type": "markdown",
   "id": "db1c4a9b",
   "metadata": {},
   "source": [
    "### 4) F1 Score"
   ]
  },
  {
   "cell_type": "code",
   "execution_count": null,
   "id": "06fb8a03",
   "metadata": {},
   "outputs": [],
   "source": [
    "'''\n",
    "# F1 Score : 정밀도와 재현율을 결합한 지표\n",
    "           : 정밀도와 재현율이 어느 한쪽으로 치우치지 않는 수치를 나타낼 때 상대적으로 높은 수치를 보임\n",
    "'''"
   ]
  },
  {
   "cell_type": "code",
   "execution_count": 71,
   "id": "85d5553b",
   "metadata": {},
   "outputs": [
    {
     "data": {
      "text/plain": [
       "0.7805"
      ]
     },
     "execution_count": 71,
     "metadata": {},
     "output_type": "execute_result"
    }
   ],
   "source": [
    "from sklearn.metrics import f1_score\n",
    "f1 = f1_score(y_test, pred)\n",
    "np.round(f1, 4)"
   ]
  },
  {
   "cell_type": "code",
   "execution_count": 72,
   "id": "4d38a10d",
   "metadata": {},
   "outputs": [],
   "source": [
    "# 오차행렬, 정밀도, 재현율, f1 함수\n",
    "def get_clf_eval(y_test, pred):\n",
    "    confusion = confusion_matrix(y_test, pred)\n",
    "    accuracy = accuracy_score(y_test, pred)\n",
    "    precision = precision_score(y_test, pred)\n",
    "    recall = recall_score(y_test, pred)\n",
    "    f1 = f1_score(y_test, pred)\n",
    "    print(confusion)\n",
    "    print('-------------------------------------')\n",
    "    print('정확도 : ', accuracy)\n",
    "    print('정밀도 : ', precision)\n",
    "    print('재현율 : ', recall)\n",
    "    print('f1 score : ', f1)\n",
    "    print('=====================================')"
   ]
  },
  {
   "cell_type": "code",
   "execution_count": 75,
   "id": "13e14f5c",
   "metadata": {},
   "outputs": [],
   "source": [
    "def get_eval_by_thresholds(y_test, pred_proba_class_1, thresholds):\n",
    "    for custom_threshold in thresholds:\n",
    "        binarizer = Binarizer(threshold=custom_threshold).fit(pred_proba_class_1)\n",
    "        custom_pred = binarizer.transform(pred_proba_class_1)\n",
    "        print('임계값 : ', custom_threshold)\n",
    "        get_clf_eval(y_test, custom_pred)"
   ]
  },
  {
   "cell_type": "code",
   "execution_count": 79,
   "id": "a7215f98",
   "metadata": {},
   "outputs": [
    {
     "name": "stdout",
     "output_type": "stream",
     "text": [
      "임계값 :  0.4\n",
      "[[98 20]\n",
      " [10 51]]\n",
      "-------------------------------------\n",
      "정확도 :  0.8324022346368715\n",
      "정밀도 :  0.7183098591549296\n",
      "재현율 :  0.8360655737704918\n",
      "f1 score :  0.7727272727272727\n",
      "=====================================\n",
      "임계값 :  0.45\n",
      "[[103  15]\n",
      " [ 12  49]]\n",
      "-------------------------------------\n",
      "정확도 :  0.8491620111731844\n",
      "정밀도 :  0.765625\n",
      "재현율 :  0.8032786885245902\n",
      "f1 score :  0.784\n",
      "=====================================\n",
      "임계값 :  0.5\n",
      "[[104  14]\n",
      " [ 13  48]]\n",
      "-------------------------------------\n",
      "정확도 :  0.8491620111731844\n",
      "정밀도 :  0.7741935483870968\n",
      "재현율 :  0.7868852459016393\n",
      "f1 score :  0.7804878048780488\n",
      "=====================================\n",
      "임계값 :  0.55\n",
      "[[109   9]\n",
      " [ 15  46]]\n",
      "-------------------------------------\n",
      "정확도 :  0.8659217877094972\n",
      "정밀도 :  0.8363636363636363\n",
      "재현율 :  0.7540983606557377\n",
      "f1 score :  0.793103448275862\n",
      "=====================================\n",
      "임계값 :  0.6\n",
      "[[112   6]\n",
      " [ 16  45]]\n",
      "-------------------------------------\n",
      "정확도 :  0.8770949720670391\n",
      "정밀도 :  0.8823529411764706\n",
      "재현율 :  0.7377049180327869\n",
      "f1 score :  0.8035714285714285\n",
      "=====================================\n"
     ]
    }
   ],
   "source": [
    "# 임계값 변화에 따른 타이타닉 평가\n",
    "thresholds = [0.40, 0.45, 0.50, 0.55, 0.60]\n",
    "pred_proba = lr_clf.predict_proba(X_test)\n",
    "get_eval_by_thresholds(y_test, pred_proba[:, 1].reshape(-1, 1), thresholds)"
   ]
  },
  {
   "cell_type": "code",
   "execution_count": null,
   "id": "97bd6f5e",
   "metadata": {},
   "outputs": [],
   "source": []
  },
  {
   "cell_type": "markdown",
   "id": "ffe7fdb8",
   "metadata": {},
   "source": [
    "### 5) ROC Curve와 AUC"
   ]
  },
  {
   "cell_type": "code",
   "execution_count": null,
   "id": "5884a5e2",
   "metadata": {},
   "outputs": [],
   "source": [
    "'''\n",
    "# ROC (Receiver Operation Curve) : 수신자 판단 곡선\n",
    "                                 : FPR(False Positive Rate)이 변할 때 TPR(재현율, 민감도)이 어떻게 변하는지를 나타내는 곡선\n",
    "                                 \n",
    " - TPR에 대응하는 특성으로 TNR(True Negative)라 불리는 특이성(Specificity)이 있음\n",
    " \n",
    " - 민감도(TPR)은 실제값 Positive(양성)가 정확히 예측되어야 하는 수준을 나타냄\n",
    "   (질병이 있는 사람은 질병이 있는 것으로 양성 판정)\n",
    "   \n",
    " - 특이성(TNR)은 실제값 Negative(음성)가 정확히 예측되어야 하는 수준을 나타냄\n",
    "   (질병이 없는 사람은 질병이 없는 것으로 음성 판정)\n",
    "   \n",
    "# 공식 : FPR = FP / (FP + TN) => 1 - TNR => 1 - 특이성\n",
    "'''"
   ]
  },
  {
   "cell_type": "code",
   "execution_count": 81,
   "id": "27efc111",
   "metadata": {},
   "outputs": [],
   "source": [
    "from sklearn.metrics import roc_curve"
   ]
  },
  {
   "cell_type": "code",
   "execution_count": 83,
   "id": "170ae6a6",
   "metadata": {},
   "outputs": [],
   "source": [
    "# FPR 변화에 따른 TPR 변화를 ROC 곡선으로 시각화\n",
    "def roc_curve_plt(y_test, pred_proba_class_1):\n",
    "    fprs, tprs, thresholds = roc_curve(y_test, pred_proba_class_1)\n",
    "    \n",
    "    plt.plot(fprs, tprs, label='ROC')\n",
    "    \n",
    "    start, end = plt.xlim()\n",
    "    plt.xticks(np.round(np.arange(start, end, 0.1), 2))\n",
    "    plt.xlim(0, 1)\n",
    "    plt.ylim(0, 1)\n",
    "    plt.xlabel('FPR')\n",
    "    plt.ylabel('TPR')\n",
    "    plt.legend()\n",
    "    plt.show()"
   ]
  },
  {
   "cell_type": "code",
   "execution_count": 85,
   "id": "a3e55d58",
   "metadata": {},
   "outputs": [
    {
     "data": {
      "image/png": "[encoded data removed]",
      "text/plain": [
       "<Figure size 432x288 with 1 Axes>"
      ]
     },
     "metadata": {
      "needs_background": "light"
     },
     "output_type": "display_data"
    }
   ],
   "source": [
    "roc_curve_plt(y_test, lr_clf.predict_proba(X_test)[:, 1])"
   ]
  },
  {
   "cell_type": "code",
   "execution_count": 86,
   "id": "a00aaf8c",
   "metadata": {},
   "outputs": [
    {
     "data": {
      "text/plain": [
       "0.9024"
      ]
     },
     "execution_count": 86,
     "metadata": {},
     "output_type": "execute_result"
    }
   ],
   "source": [
    "# 위 그래프는 변화값 파악에 보통 쓰이고, 성능 지표는 AUC 값으로 결정 - 보통 1에 가까울 수록 좋은 수치\n",
    "from sklearn.metrics import roc_auc_score\n",
    "\n",
    "pred_proba = lr_clf.predict_proba(X_test)[:, 1]\n",
    "roc_score = roc_auc_score(y_test, pred_proba)\n",
    "np.round(roc_score, 4)"
   ]
  },
  {
   "cell_type": "code",
   "execution_count": 88,
   "id": "a0c13b30",
   "metadata": {},
   "outputs": [],
   "source": [
    "# 오차행렬, 정밀도, 재현율, f1, roc auc 함수\n",
    "def get_clf_eval(y_test, pred, pred_proba):\n",
    "    confusion = confusion_matrix(y_test, pred)\n",
    "    accuracy = accuracy_score(y_test, pred)\n",
    "    precision = precision_score(y_test, pred)\n",
    "    recall = recall_score(y_test, pred)\n",
    "    f1 = f1_score(y_test, pred)\n",
    "    roc_auc = roc_auc_score(y_test, pred_proba)\n",
    "    \n",
    "    print(confusion)\n",
    "    print('-------------------------------------')\n",
    "    print('정확도 : ', accuracy)\n",
    "    print('정밀도 : ', precision)\n",
    "    print('재현율 : ', recall)\n",
    "    print('f1 score : ', f1)\n",
    "    print('roc auc : ', roc_auc)\n",
    "    print('======================================')"
   ]
  },
  {
   "cell_type": "code",
   "execution_count": 89,
   "id": "bfb2b90d",
   "metadata": {},
   "outputs": [
    {
     "name": "stdout",
     "output_type": "stream",
     "text": [
      "[[104  14]\n",
      " [ 13  48]]\n",
      "-------------------------------------\n",
      "정확도 :  0.8491620111731844\n",
      "정밀도 :  0.7741935483870968\n",
      "재현율 :  0.7868852459016393\n",
      "f1 score :  0.7804878048780488\n",
      "roc auc :  0.9024034454015005\n",
      "======================================\n"
     ]
    }
   ],
   "source": [
    "get_clf_eval(y_test, pred, pred_proba)"
   ]
  },
  {
   "cell_type": "code",
   "execution_count": null,
   "id": "8f2ed0f7",
   "metadata": {},
   "outputs": [],
   "source": []
  },
  {
   "cell_type": "code",
   "execution_count": null,
   "id": "2cb6bec7",
   "metadata": {},
   "outputs": [],
   "source": []
  },
  {
   "cell_type": "code",
   "execution_count": null,
   "id": "b024dbe0",
   "metadata": {},
   "outputs": [],
   "source": []
  },
  {
   "cell_type": "code",
   "execution_count": null,
   "id": "4bb0a898",
   "metadata": {},
   "outputs": [],
   "source": []
  },
  {
   "cell_type": "code",
   "execution_count": null,
   "id": "f78a23bc",
   "metadata": {},
   "outputs": [],
   "source": []
  }
 ],
 "metadata": {
  "kernelspec": {
   "display_name": "Python 3",
   "language": "python",
   "name": "python3"
  },
  "language_info": {
   "codemirror_mode": {
    "name": "ipython",
    "version": 3
   },
   "file_extension": ".py",
   "mimetype": "text/x-python",
   "name": "python",
   "nbconvert_exporter": "python",
   "pygments_lexer": "ipython3",
   "version": "3.8.8"
  }
 },
 "nbformat": 4,
 "nbformat_minor": 5
}
