{
 "cells": [
  {
   "cell_type": "code",
   "execution_count": null,
   "id": "b63cf7e5",
   "metadata": {},
   "outputs": [],
   "source": [
    "'''\n",
    "# numpy 데이터 자료형\n",
    "# dtype 속성에 해당 자료형 접두사 첫글자를 부여\n",
    " - b : bollean                 ex) dtype = 'b'\n",
    " - i : int(정수형)             ex) dtype = 'i8'  (64비트)\n",
    " - u : 보호없는 정수           ex) dtype = 'u8'  (64비트)\n",
    " - f : 부동소수점              ex) dtype = 'f8'  (64비트)\n",
    " - c : 복소수 부동소수점       ex) dtype = 'c16' (128비트)\n",
    " - O : 객체                    ex) dtype = 'O'   (객체에 대한 포인터)\n",
    " - S : 바이트 문자열           ex) dtype = '524' (24글자)\n",
    " - U : 유니코드 문자열         ex) dtype = 'U24' (24유니코드 글자)\n",
    " \n",
    " \n",
    " - Inf : 무한대\n",
    " - NaN (Not a Number)\n",
    " - N/A (Not avalible, not applicable)\n",
    " \n",
    " \n",
    "'''"
   ]
  },
  {
   "cell_type": "code",
   "execution_count": 40,
   "id": "c2fb7673",
   "metadata": {},
   "outputs": [],
   "source": [
    "import numpy as np"
   ]
  },
  {
   "cell_type": "code",
   "execution_count": 41,
   "id": "863a108c",
   "metadata": {},
   "outputs": [
    {
     "data": {
      "text/plain": [
       "array([1, 2, 3])"
      ]
     },
     "execution_count": 41,
     "metadata": {},
     "output_type": "execute_result"
    }
   ],
   "source": [
    "# 자료형 지정은 값을 직접 집어넣거나 dtype 속성을 이용해서 지정할 수 있음\n",
    "x = np.array([1,2,3])\n",
    "x"
   ]
  },
  {
   "cell_type": "code",
   "execution_count": 42,
   "id": "2d7c8b9f",
   "metadata": {},
   "outputs": [
    {
     "data": {
      "text/plain": [
       "dtype('int32')"
      ]
     },
     "execution_count": 42,
     "metadata": {},
     "output_type": "execute_result"
    }
   ],
   "source": [
    "x.dtype"
   ]
  },
  {
   "cell_type": "code",
   "execution_count": 43,
   "id": "2fba425a",
   "metadata": {},
   "outputs": [
    {
     "data": {
      "text/plain": [
       "dtype('float64')"
      ]
     },
     "execution_count": 43,
     "metadata": {},
     "output_type": "execute_result"
    }
   ],
   "source": [
    "x = np.array([1,2,3.0])\n",
    "x.dtype"
   ]
  },
  {
   "cell_type": "code",
   "execution_count": 44,
   "id": "ffdddf4d",
   "metadata": {},
   "outputs": [
    {
     "data": {
      "text/plain": [
       "dtype('int32')"
      ]
     },
     "execution_count": 44,
     "metadata": {},
     "output_type": "execute_result"
    }
   ],
   "source": [
    "x = np.array([1,2,3], dtype='int')\n",
    "x.dtype"
   ]
  },
  {
   "cell_type": "code",
   "execution_count": 45,
   "id": "463275f9",
   "metadata": {},
   "outputs": [
    {
     "data": {
      "text/plain": [
       "dtype('float64')"
      ]
     },
     "execution_count": 45,
     "metadata": {},
     "output_type": "execute_result"
    }
   ],
   "source": [
    "x = np.array([1,2,3], dtype='float')\n",
    "x.dtype"
   ]
  },
  {
   "cell_type": "code",
   "execution_count": 46,
   "id": "2bd14976",
   "metadata": {},
   "outputs": [
    {
     "data": {
      "text/plain": [
       "dtype('float32')"
      ]
     },
     "execution_count": 46,
     "metadata": {},
     "output_type": "execute_result"
    }
   ],
   "source": [
    "y = np.array([1,2,3], dtype='f')\n",
    "y.dtype"
   ]
  },
  {
   "cell_type": "code",
   "execution_count": 47,
   "id": "32cbe644",
   "metadata": {},
   "outputs": [
    {
     "data": {
      "text/plain": [
       "dtype('<U1')"
      ]
     },
     "execution_count": 47,
     "metadata": {},
     "output_type": "execute_result"
    }
   ],
   "source": [
    "x = np.array([1,2,3], dtype='U')\n",
    "x.dtype"
   ]
  },
  {
   "cell_type": "code",
   "execution_count": 48,
   "id": "7574fcbb",
   "metadata": {},
   "outputs": [
    {
     "data": {
      "text/plain": [
       "'12'"
      ]
     },
     "execution_count": 48,
     "metadata": {},
     "output_type": "execute_result"
    }
   ],
   "source": [
    "x[0] + x[1] #인덱싱한 값이 유니코드 문자임이 확인"
   ]
  },
  {
   "cell_type": "code",
   "execution_count": 49,
   "id": "09286864",
   "metadata": {},
   "outputs": [
    {
     "name": "stderr",
     "output_type": "stream",
     "text": [
      "<ipython-input-49-dc768ac6b521>:1: RuntimeWarning: divide by zero encountered in true_divide\n",
      "  np.array([0,1,-1,0])/np.array([1,0,0,0])\n",
      "<ipython-input-49-dc768ac6b521>:1: RuntimeWarning: invalid value encountered in true_divide\n",
      "  np.array([0,1,-1,0])/np.array([1,0,0,0])\n"
     ]
    },
    {
     "data": {
      "text/plain": [
       "array([  0.,  inf, -inf,  nan])"
      ]
     },
     "execution_count": 49,
     "metadata": {},
     "output_type": "execute_result"
    }
   ],
   "source": [
    "np.array([0,1,-1,0])/np.array([1,0,0,0])"
   ]
  },
  {
   "cell_type": "code",
   "execution_count": 50,
   "id": "af07c83b",
   "metadata": {},
   "outputs": [
    {
     "data": {
      "text/plain": [
       "'\\n# 배열 연결(concatenate)\\n : 행의 수나, 열의 수가 같은 두 개 이상의 배열을 연결하여 더 큰 배열을 만들 때 사용하는 방법\\n \\n - hstack : 행의 수가 같은 두 개 이상의 배열을 옆으로 연결하여 열의 수가 더 많은 배열을 생성\\n          : 연결할 배열이 하나의 리스트에 담겨있어야 함\\n - vstack : 열의 수가 같은 두 개 이상의 배열을 위아래로 연결하여 행의 수가 더 많은 배열을 생성\\n          : 연결할 배열이 하나의 리스트에 담겨있어야함\\n - dstack : 깊이(depth)방향으로 배열을 연결\\n\\n - stack : dstack 확장버전\\n         : 배열이 겹쳐지듯이 확장되므로 연결하고자 하는 배열들의 크기가 모두 같아야 함\\n         : 인수로 axis를 사용할 수 있고 0~2까지 가능 \\n'"
      ]
     },
     "execution_count": 50,
     "metadata": {},
     "output_type": "execute_result"
    }
   ],
   "source": [
    "'''\n",
    "# 배열 연결(concatenate)\n",
    " : 행의 수나, 열의 수가 같은 두 개 이상의 배열을 연결하여 더 큰 배열을 만들 때 사용하는 방법\n",
    " \n",
    " - hstack : 행의 수가 같은 두 개 이상의 배열을 옆으로 연결하여 열의 수가 더 많은 배열을 생성\n",
    "          : 연결할 배열이 하나의 리스트에 담겨있어야 함\n",
    " - vstack : 열의 수가 같은 두 개 이상의 배열을 위아래로 연결하여 행의 수가 더 많은 배열을 생성\n",
    "          : 연결할 배열이 하나의 리스트에 담겨있어야함\n",
    " - dstack : 깊이(depth)방향으로 배열을 연결\n",
    "\n",
    " - stack : dstack 확장버전\n",
    "         : 배열이 겹쳐지듯이 확장되므로 연결하고자 하는 배열들의 크기가 모두 같아야 함\n",
    "         : 인수로 axis를 사용할 수 있고 0~2까지 가능 \n",
    "         \n",
    " - title : 동일한 배열을 반복해서 연결할 때 사용 (비슷한 명령을 repeat)\n",
    " \n",
    " \n",
    " \n",
    " - 특수 메소드(인덱서) : 메소드 이지만 ()을 사용하지 않음, 인덱싱과 같인 대괄호 []를 사용하므로 인덱서라고 지칭 \n",
    " - r_메소드 : hstack 과 비슷한 명령, 배열을 좌우로 연결 \n",
    " - c_메소드 : 배열의 차원을 증가시킨 후 좌우로 연결 \n",
    "            : 그러므로 1차 배열을 연결하면 2차원 배열이 됨\n",
    "  \n",
    "\n",
    "'''"
   ]
  },
  {
   "cell_type": "code",
   "execution_count": 51,
   "id": "bab4f9fd",
   "metadata": {},
   "outputs": [
    {
     "data": {
      "text/plain": [
       "array([[1., 1., 1.],\n",
       "       [1., 1., 1.]])"
      ]
     },
     "execution_count": 51,
     "metadata": {},
     "output_type": "execute_result"
    }
   ],
   "source": [
    "a1 = np.ones((2,3)); a1"
   ]
  },
  {
   "cell_type": "code",
   "execution_count": 52,
   "id": "9f68857c",
   "metadata": {},
   "outputs": [
    {
     "data": {
      "text/plain": [
       "array([[0., 0.],\n",
       "       [0., 0.]])"
      ]
     },
     "execution_count": 52,
     "metadata": {},
     "output_type": "execute_result"
    }
   ],
   "source": [
    "a2 = np.zeros((2,2)); a2"
   ]
  },
  {
   "cell_type": "code",
   "execution_count": 53,
   "id": "34855b57",
   "metadata": {},
   "outputs": [
    {
     "data": {
      "text/plain": [
       "array([[1., 1., 1., 0., 0.],\n",
       "       [1., 1., 1., 0., 0.]])"
      ]
     },
     "execution_count": 53,
     "metadata": {},
     "output_type": "execute_result"
    }
   ],
   "source": [
    "# hstack\n",
    "np.hstack([a1,a2])"
   ]
  },
  {
   "cell_type": "code",
   "execution_count": 54,
   "id": "50822f73",
   "metadata": {},
   "outputs": [
    {
     "data": {
      "text/plain": [
       "array([[1., 1., 1.],\n",
       "       [1., 1., 1.]])"
      ]
     },
     "execution_count": 54,
     "metadata": {},
     "output_type": "execute_result"
    }
   ],
   "source": [
    "b1 = np.ones((2, 3)); b1"
   ]
  },
  {
   "cell_type": "code",
   "execution_count": 55,
   "id": "df8d0820",
   "metadata": {},
   "outputs": [
    {
     "data": {
      "text/plain": [
       "array([[0., 0., 0.],\n",
       "       [0., 0., 0.],\n",
       "       [0., 0., 0.]])"
      ]
     },
     "execution_count": 55,
     "metadata": {},
     "output_type": "execute_result"
    }
   ],
   "source": [
    "b2 = np.zeros((3,3));b2"
   ]
  },
  {
   "cell_type": "code",
   "execution_count": 56,
   "id": "df3854c9",
   "metadata": {},
   "outputs": [
    {
     "data": {
      "text/plain": [
       "array([[1., 1., 1.],\n",
       "       [1., 1., 1.],\n",
       "       [0., 0., 0.],\n",
       "       [0., 0., 0.],\n",
       "       [0., 0., 0.]])"
      ]
     },
     "execution_count": 56,
     "metadata": {},
     "output_type": "execute_result"
    }
   ],
   "source": [
    "# vstack\n",
    "np.vstack([b1,b2])"
   ]
  },
  {
   "cell_type": "code",
   "execution_count": 57,
   "id": "c4c8295f",
   "metadata": {},
   "outputs": [
    {
     "data": {
      "text/plain": [
       "array([[1., 1., 1., 1.],\n",
       "       [1., 1., 1., 1.],\n",
       "       [1., 1., 1., 1.]])"
      ]
     },
     "execution_count": 57,
     "metadata": {},
     "output_type": "execute_result"
    }
   ],
   "source": [
    "c1 = np.ones((3,4)); c1"
   ]
  },
  {
   "cell_type": "code",
   "execution_count": 58,
   "id": "b50a3922",
   "metadata": {},
   "outputs": [
    {
     "data": {
      "text/plain": [
       "array([[0., 0., 0., 0.],\n",
       "       [0., 0., 0., 0.],\n",
       "       [0., 0., 0., 0.]])"
      ]
     },
     "execution_count": 58,
     "metadata": {},
     "output_type": "execute_result"
    }
   ],
   "source": [
    "c2 = np.zeros((3,4)); c2"
   ]
  },
  {
   "cell_type": "code",
   "execution_count": 59,
   "id": "63a11b18",
   "metadata": {},
   "outputs": [
    {
     "data": {
      "text/plain": [
       "array([[[1., 0.],\n",
       "        [1., 0.],\n",
       "        [1., 0.],\n",
       "        [1., 0.]],\n",
       "\n",
       "       [[1., 0.],\n",
       "        [1., 0.],\n",
       "        [1., 0.],\n",
       "        [1., 0.]],\n",
       "\n",
       "       [[1., 0.],\n",
       "        [1., 0.],\n",
       "        [1., 0.],\n",
       "        [1., 0.]]])"
      ]
     },
     "execution_count": 59,
     "metadata": {},
     "output_type": "execute_result"
    }
   ],
   "source": [
    "np.dstack([c1,c2])"
   ]
  },
  {
   "cell_type": "code",
   "execution_count": 60,
   "id": "5d3acb6c",
   "metadata": {},
   "outputs": [
    {
     "data": {
      "text/plain": [
       "(3, 4, 2)"
      ]
     },
     "execution_count": 60,
     "metadata": {},
     "output_type": "execute_result"
    }
   ],
   "source": [
    "(np.dstack([c1,c2])).shape   # (깊이, 행, 열 )"
   ]
  },
  {
   "cell_type": "code",
   "execution_count": 61,
   "id": "0f44a652",
   "metadata": {},
   "outputs": [],
   "source": [
    "# stack"
   ]
  },
  {
   "cell_type": "code",
   "execution_count": 62,
   "id": "a926512e",
   "metadata": {},
   "outputs": [
    {
     "data": {
      "text/plain": [
       "array([[1., 1., 1., 1.],\n",
       "       [1., 1., 1., 1.],\n",
       "       [1., 1., 1., 1.]])"
      ]
     },
     "execution_count": 62,
     "metadata": {},
     "output_type": "execute_result"
    }
   ],
   "source": [
    "c1"
   ]
  },
  {
   "cell_type": "code",
   "execution_count": 63,
   "id": "3333ac9e",
   "metadata": {},
   "outputs": [
    {
     "data": {
      "text/plain": [
       "array([[0., 0., 0., 0.],\n",
       "       [0., 0., 0., 0.],\n",
       "       [0., 0., 0., 0.]])"
      ]
     },
     "execution_count": 63,
     "metadata": {},
     "output_type": "execute_result"
    }
   ],
   "source": [
    "c2"
   ]
  },
  {
   "cell_type": "code",
   "execution_count": 64,
   "id": "c2e8ca2a",
   "metadata": {},
   "outputs": [
    {
     "data": {
      "text/plain": [
       "array([[[1., 1., 1., 1.],\n",
       "        [1., 1., 1., 1.],\n",
       "        [1., 1., 1., 1.]],\n",
       "\n",
       "       [[0., 0., 0., 0.],\n",
       "        [0., 0., 0., 0.],\n",
       "        [0., 0., 0., 0.]]])"
      ]
     },
     "execution_count": 64,
     "metadata": {},
     "output_type": "execute_result"
    }
   ],
   "source": [
    "np.stack([c1,c2])"
   ]
  },
  {
   "cell_type": "code",
   "execution_count": 67,
   "id": "bd864e82",
   "metadata": {},
   "outputs": [
    {
     "data": {
      "text/plain": [
       "(2, 3, 4)"
      ]
     },
     "execution_count": 67,
     "metadata": {},
     "output_type": "execute_result"
    }
   ],
   "source": [
    "(np.stack([c1,c2])).shape"
   ]
  },
  {
   "cell_type": "code",
   "execution_count": 66,
   "id": "a0ebe47c",
   "metadata": {},
   "outputs": [
    {
     "data": {
      "text/plain": [
       "array([[[1., 1., 1., 1.],\n",
       "        [1., 1., 1., 1.],\n",
       "        [1., 1., 1., 1.]],\n",
       "\n",
       "       [[0., 0., 0., 0.],\n",
       "        [0., 0., 0., 0.],\n",
       "        [0., 0., 0., 0.]]])"
      ]
     },
     "execution_count": 66,
     "metadata": {},
     "output_type": "execute_result"
    }
   ],
   "source": [
    "# stack option\n",
    "np.stack([c1,c2], axis=0)"
   ]
  },
  {
   "cell_type": "code",
   "execution_count": 68,
   "id": "79b6453e",
   "metadata": {},
   "outputs": [
    {
     "data": {
      "text/plain": [
       "array([[[1., 1., 1., 1.],\n",
       "        [0., 0., 0., 0.]],\n",
       "\n",
       "       [[1., 1., 1., 1.],\n",
       "        [0., 0., 0., 0.]],\n",
       "\n",
       "       [[1., 1., 1., 1.],\n",
       "        [0., 0., 0., 0.]]])"
      ]
     },
     "execution_count": 68,
     "metadata": {},
     "output_type": "execute_result"
    }
   ],
   "source": [
    "np.stack([c1,c2], axis=1)"
   ]
  },
  {
   "cell_type": "code",
   "execution_count": 70,
   "id": "876836f0",
   "metadata": {},
   "outputs": [
    {
     "data": {
      "text/plain": [
       "(3, 2, 4)"
      ]
     },
     "execution_count": 70,
     "metadata": {},
     "output_type": "execute_result"
    }
   ],
   "source": [
    "(np.stack([c1,c2], axis=1)).shape"
   ]
  },
  {
   "cell_type": "code",
   "execution_count": 71,
   "id": "b6736e31",
   "metadata": {},
   "outputs": [
    {
     "data": {
      "text/plain": [
       "(3, 4, 2)"
      ]
     },
     "execution_count": 71,
     "metadata": {},
     "output_type": "execute_result"
    }
   ],
   "source": [
    "(np.stack([c1,c2], axis=2)).shape"
   ]
  },
  {
   "cell_type": "code",
   "execution_count": 72,
   "id": "bb901c9b",
   "metadata": {},
   "outputs": [],
   "source": [
    "# 인덱서"
   ]
  },
  {
   "cell_type": "code",
   "execution_count": 73,
   "id": "f8ea1f2a",
   "metadata": {},
   "outputs": [],
   "source": [
    "r1 = np.array([1,2,3])\n",
    "r2 = np.array([4,5,6])\n"
   ]
  },
  {
   "cell_type": "code",
   "execution_count": 75,
   "id": "838009e4",
   "metadata": {},
   "outputs": [
    {
     "data": {
      "text/plain": [
       "array([1, 2, 3, 4, 5, 6])"
      ]
     },
     "execution_count": 75,
     "metadata": {},
     "output_type": "execute_result"
    }
   ],
   "source": [
    "np.r_[r1,r2]"
   ]
  },
  {
   "cell_type": "code",
   "execution_count": 78,
   "id": "8e35598c",
   "metadata": {},
   "outputs": [
    {
     "data": {
      "text/plain": [
       "array([4, 5, 6, 1, 2, 3])"
      ]
     },
     "execution_count": 78,
     "metadata": {},
     "output_type": "execute_result"
    }
   ],
   "source": [
    "np.r_[r2,r1]"
   ]
  },
  {
   "cell_type": "code",
   "execution_count": 79,
   "id": "ea89c6d1",
   "metadata": {},
   "outputs": [],
   "source": [
    "# C_인덱서\n",
    "r1 = np.array([1,2,3])\n",
    "r2 = np.array([4,5,6])"
   ]
  },
  {
   "cell_type": "code",
   "execution_count": 80,
   "id": "93c78a28",
   "metadata": {},
   "outputs": [
    {
     "data": {
      "text/plain": [
       "array([[1, 4],\n",
       "       [2, 5],\n",
       "       [3, 6]])"
      ]
     },
     "execution_count": 80,
     "metadata": {},
     "output_type": "execute_result"
    }
   ],
   "source": [
    "np.c_[r1,r2]"
   ]
  },
  {
   "cell_type": "code",
   "execution_count": 81,
   "id": "4036d332",
   "metadata": {},
   "outputs": [],
   "source": [
    "# title"
   ]
  },
  {
   "cell_type": "code",
   "execution_count": 85,
   "id": "4d17b5a7",
   "metadata": {},
   "outputs": [
    {
     "data": {
      "text/plain": [
       "array([[ 0,  1,  2],\n",
       "       [11, 12, 13]])"
      ]
     },
     "execution_count": 85,
     "metadata": {},
     "output_type": "execute_result"
    }
   ],
   "source": [
    "t = np.array([[0,1,2],[11,12,13]]);t"
   ]
  },
  {
   "cell_type": "code",
   "execution_count": 86,
   "id": "448ab7bd",
   "metadata": {},
   "outputs": [
    {
     "data": {
      "text/plain": [
       "array([[ 0,  1,  2,  0,  1,  2],\n",
       "       [11, 12, 13, 11, 12, 13]])"
      ]
     },
     "execution_count": 86,
     "metadata": {},
     "output_type": "execute_result"
    }
   ],
   "source": [
    "np.tile(t,2)"
   ]
  },
  {
   "cell_type": "code",
   "execution_count": 87,
   "id": "0236f19e",
   "metadata": {},
   "outputs": [
    {
     "data": {
      "text/plain": [
       "array([[ 0,  1,  2,  0,  1,  2],\n",
       "       [11, 12, 13, 11, 12, 13],\n",
       "       [ 0,  1,  2,  0,  1,  2],\n",
       "       [11, 12, 13, 11, 12, 13],\n",
       "       [ 0,  1,  2,  0,  1,  2],\n",
       "       [11, 12, 13, 11, 12, 13]])"
      ]
     },
     "execution_count": 87,
     "metadata": {},
     "output_type": "execute_result"
    }
   ],
   "source": [
    "# x,y 모두 반복 - tuple 적용\n",
    "np.tile(t,(3,2))"
   ]
  },
  {
   "cell_type": "code",
   "execution_count": 92,
   "id": "06b8c5bf",
   "metadata": {},
   "outputs": [],
   "source": [
    "# tile 비슷한 명령 : repeat"
   ]
  },
  {
   "cell_type": "code",
   "execution_count": 93,
   "id": "bb2932ca",
   "metadata": {},
   "outputs": [
    {
     "data": {
      "text/plain": [
       "array([[1, 2],\n",
       "       [3, 4]])"
      ]
     },
     "execution_count": 93,
     "metadata": {},
     "output_type": "execute_result"
    }
   ],
   "source": [
    "t2 = np.array([[1,2],[3,4]])\n",
    "t2"
   ]
  },
  {
   "cell_type": "code",
   "execution_count": 94,
   "id": "253b806f",
   "metadata": {},
   "outputs": [
    {
     "data": {
      "text/plain": [
       "array([1, 1, 2, 2, 3, 3, 4, 4])"
      ]
     },
     "execution_count": 94,
     "metadata": {},
     "output_type": "execute_result"
    }
   ],
   "source": [
    "np.repeat(t2,2)    # 요소에 있는 값을 그대로 반복 "
   ]
  },
  {
   "cell_type": "code",
   "execution_count": 95,
   "id": "7cfd780e",
   "metadata": {},
   "outputs": [
    {
     "data": {
      "text/plain": [
       "array([[1, 2, 1, 2],\n",
       "       [3, 4, 3, 4]])"
      ]
     },
     "execution_count": 95,
     "metadata": {},
     "output_type": "execute_result"
    }
   ],
   "source": [
    "np.tile(t2,2)"
   ]
  },
  {
   "cell_type": "code",
   "execution_count": 97,
   "id": "6596e3f7",
   "metadata": {},
   "outputs": [
    {
     "data": {
      "text/plain": [
       "array([[1, 2],\n",
       "       [3, 4],\n",
       "       [1, 2],\n",
       "       [3, 4]])"
      ]
     },
     "execution_count": 97,
     "metadata": {},
     "output_type": "execute_result"
    }
   ],
   "source": [
    "np.tile(t2, (2,1))"
   ]
  },
  {
   "cell_type": "code",
   "execution_count": 100,
   "id": "48b1276f",
   "metadata": {},
   "outputs": [
    {
     "name": "stdout",
     "output_type": "stream",
     "text": [
      "[1 1 1 2 2 2 3 3 3 4 4 4]\n",
      "[[1 1 1 2 2 2]\n",
      " [3 3 3 4 4 4]]\n",
      "[[1 2]\n",
      " [1 2]\n",
      " [1 2]\n",
      " [3 4]\n",
      " [3 4]\n",
      " [3 4]]\n"
     ]
    }
   ],
   "source": [
    "# repeat에도 axis 속성이 있음\n",
    "print(np.repeat(t2,3))\n",
    "print(np.repeat(t2,3, axis=1))\n",
    "print(np.repeat(t2,3, axis=0))"
   ]
  },
  {
   "cell_type": "code",
   "execution_count": 101,
   "id": "c27c415e",
   "metadata": {
    "collapsed": true
   },
   "outputs": [
    {
     "data": {
      "text/plain": [
       "'\\n# 차원 축소(dimension reduction) 연산\\nex) 1 2 3 4     ---> 평균 : 2.5\\n    5 6 4 7     ---> 평균 : 4\\n\\n : 행렬의 하나의 행에 있는 원소들을 데이터 집합으로 보고 그 집합의 평균을 구하면 각 집합당 하나의 값이 나오게 되고\\n   그럼 그 값들만 따로 데이터 집합으로 두면 차워 축소가 됨\\n\\n> numpy에서 차원 축소 연산 명령 또는 메소드\\n  - 최대/최소 min,max, argnin(최소값 위치), argmax(최대값 위치)\\n  - 통계 : sum, mean, median, std, var\\n  - 참/거짓 : all, any\\n'"
      ]
     },
     "execution_count": 101,
     "metadata": {},
     "output_type": "execute_result"
    }
   ],
   "source": [
    "'''\n",
    "# 차원 축소(dimension reduction) 연산\n",
    "ex) 1 2 3 4     ---> 평균 : 2.5\n",
    "    5 6 4 7     ---> 평균 : 4\n",
    "\n",
    " : 행렬의 하나의 행에 있는 원소들을 데이터 집합으로 보고 그 집합의 평균을 구하면 각 집합당 하나의 값이 나오게 되고\n",
    "   그럼 그 값들만 따로 데이터 집합으로 두면 차워 축소가 됨\n",
    "\n",
    "> numpy에서 차원 축소 연산 명령 또는 메소드\n",
    "  - 최대/최소 min,max, argnin(최소값 위치), argmax(최대값 위치)\n",
    "  - 통계 : sum, mean, median, std, var\n",
    "  - 참/거짓 : all, any\n",
    "  \n",
    "> axis 속성을 이용해면 어느 차원으로 계산을 할 지 지정할 수 잇으므로 대부분 차원축소 연산에 적용할 수 있음\n",
    "\n",
    "'''"
   ]
  },
  {
   "cell_type": "code",
   "execution_count": 102,
   "id": "71360f87",
   "metadata": {},
   "outputs": [],
   "source": [
    "import numpy as np"
   ]
  },
  {
   "cell_type": "code",
   "execution_count": 103,
   "id": "9a3baca3",
   "metadata": {},
   "outputs": [
    {
     "data": {
      "text/plain": [
       "array([  1,  10, 100])"
      ]
     },
     "execution_count": 103,
     "metadata": {},
     "output_type": "execute_result"
    }
   ],
   "source": [
    "x = np.array([1,10,100]); x"
   ]
  },
  {
   "cell_type": "code",
   "execution_count": 106,
   "id": "3cb92460",
   "metadata": {},
   "outputs": [
    {
     "name": "stdout",
     "output_type": "stream",
     "text": [
      "1\n",
      "0\n"
     ]
    }
   ],
   "source": [
    "print(x.min())\n",
    "print(x.argmin())"
   ]
  },
  {
   "cell_type": "code",
   "execution_count": 107,
   "id": "34dd520c",
   "metadata": {},
   "outputs": [
    {
     "name": "stdout",
     "output_type": "stream",
     "text": [
      "100\n",
      "2\n"
     ]
    }
   ],
   "source": [
    "print(x.max())\n",
    "print(x.argmax())"
   ]
  },
  {
   "cell_type": "code",
   "execution_count": 108,
   "id": "df15bb91",
   "metadata": {},
   "outputs": [
    {
     "name": "stdout",
     "output_type": "stream",
     "text": [
      "37.0\n",
      "111\n",
      "10.0\n"
     ]
    }
   ],
   "source": [
    "print(x.mean())\n",
    "print(x.sum())\n",
    "print(np.median(x))"
   ]
  },
  {
   "cell_type": "code",
   "execution_count": 109,
   "id": "06b0a401",
   "metadata": {},
   "outputs": [
    {
     "data": {
      "text/plain": [
       "False"
      ]
     },
     "execution_count": 109,
     "metadata": {},
     "output_type": "execute_result"
    }
   ],
   "source": [
    "# all : 배열의 모든 원소가 True 인지 평가하는 메소드\n",
    "np.all([True,True,False])"
   ]
  },
  {
   "cell_type": "code",
   "execution_count": 110,
   "id": "254e887d",
   "metadata": {},
   "outputs": [
    {
     "data": {
      "text/plain": [
       "True"
      ]
     },
     "execution_count": 110,
     "metadata": {},
     "output_type": "execute_result"
    }
   ],
   "source": [
    "# any : 배열에서 1개 이상의 원소가 True인지 평가하는 메소드\n",
    "np.any([False,False,True,False])"
   ]
  },
  {
   "cell_type": "code",
   "execution_count": 111,
   "id": "486f1e7a",
   "metadata": {},
   "outputs": [
    {
     "data": {
      "text/plain": [
       "array([[1, 1],\n",
       "       [2, 2]])"
      ]
     },
     "execution_count": 111,
     "metadata": {},
     "output_type": "execute_result"
    }
   ],
   "source": [
    "# axis \n",
    "x = np.array([[1,1],[2,2]])\n",
    "x"
   ]
  },
  {
   "cell_type": "code",
   "execution_count": 112,
   "id": "693ec736",
   "metadata": {},
   "outputs": [
    {
     "data": {
      "text/plain": [
       "6"
      ]
     },
     "execution_count": 112,
     "metadata": {},
     "output_type": "execute_result"
    }
   ],
   "source": [
    "x.sum()"
   ]
  },
  {
   "cell_type": "code",
   "execution_count": 114,
   "id": "67a633aa",
   "metadata": {},
   "outputs": [
    {
     "data": {
      "text/plain": [
       "array([3, 3])"
      ]
     },
     "execution_count": 114,
     "metadata": {},
     "output_type": "execute_result"
    }
   ],
   "source": [
    "x.sum(axis=0)  # 열 합계"
   ]
  },
  {
   "cell_type": "code",
   "execution_count": 115,
   "id": "eb17f756",
   "metadata": {},
   "outputs": [
    {
     "data": {
      "text/plain": [
       "array([2, 4])"
      ]
     },
     "execution_count": 115,
     "metadata": {},
     "output_type": "execute_result"
    }
   ],
   "source": [
    "x.sum(axis=1)  #행 합계"
   ]
  },
  {
   "cell_type": "code",
   "execution_count": null,
   "id": "122efe91",
   "metadata": {},
   "outputs": [],
   "source": []
  }
 ],
 "metadata": {
  "kernelspec": {
   "display_name": "Python 3",
   "language": "python",
   "name": "python3"
  },
  "language_info": {
   "codemirror_mode": {
    "name": "ipython",
    "version": 3
   },
   "file_extension": ".py",
   "mimetype": "text/x-python",
   "name": "python",
   "nbconvert_exporter": "python",
   "pygments_lexer": "ipython3",
   "version": "3.8.8"
  }
 },
 "nbformat": 4,
 "nbformat_minor": 5
}
