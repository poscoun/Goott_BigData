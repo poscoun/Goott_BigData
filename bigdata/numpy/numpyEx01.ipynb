{
 "cells": [
  {
   "cell_type": "code",
   "execution_count": 1,
   "id": "1928fefd",
   "metadata": {
    "collapsed": true
   },
   "outputs": [
    {
     "data": {
      "text/plain": [
       "'\\n# numpy 기술 통계 (Descriptive statistics)\\n - 분산(variance) : 데이터와 샘플 평균간 거리의 제곱의 평균\\n                  : 이 값이 작으면 데이터가 모여 있는 것, 이 값이 크면 흩어져 있는 것\\n                  : np.var(x)\\n - 표준편차(standard deviation) : 분산의 제곱근 값.\\n                               : np.std(x)\\n - 최대값(maximum) : 데이터 중에서 가장 큰 값 - np.max(x)\\n - 최소값(minimum) : 데이터 중에서 가장 작은 값 - np.min(x)\\n - 중앙값(median) : 데이터를 크기 대로 정렬 하였을 때 가장 가운데에 있는 수\\n                  : 가장 가운데에 있는 수가 2개이면? 중앙 두 수의 평균을 사용\\n                  : np.median(x)\\n - 사분위수(quartile) : 데이터를 크기대로 정렬하였을 때 1/4, 2/4, 3/4 위치에 있는 수\\n                      : 1사분위수, 2사분위수, 3사분위수\\n                      : 데이터가 100개라면 25번째 순서까지가 1사분위수\\n                      : 위치를 1/100 단위로 나눈 백분위수(percentile)를 사용하기도 함\\n                        이 때는 1사분위수는 25%\\n                      : np.percentile(x, 0)   # 최소값\\n                      : np.percentile(x, 25)  # 1사분위수\\n                      : np.percentile(x, 50)  # 2사분위수\\n                      : np.percentile(x, 75)  # 3사분위수\\n                      : np.percentile(x, 100) # 최대값\\n\\n - 합계 : np.sum()\\n - 여러 개의 수를 연속하여 곱하기 : np.product()\\n\\n'"
      ]
     },
     "execution_count": 1,
     "metadata": {},
     "output_type": "execute_result"
    }
   ],
   "source": [
    "'''\n",
    "# numpy 기술 통계 (Descriptive statistics)\n",
    " - 평균(mean) : np.mean(x)\n",
    " - 분산(variance) : 데이터와 샘플 평균간 거리의 제곱의 평균\n",
    "                  : 이 값이 작으면 데이터가 모여 있는 것, 이 값이 크면 흩어져 있는 것\n",
    "                  : np.var(x)\n",
    " - 표준편차(standard deviation) : 분산의 제곱근 값.\n",
    "                               : np.std(x)\n",
    " - 최대값(maximum) : 데이터 중에서 가장 큰 값 - np.max(x)\n",
    " - 최소값(minimum) : 데이터 중에서 가장 작은 값 - np.min(x)\n",
    " - 중앙값(median) : 데이터를 크기 대로 정렬 하였을 때 가장 가운데에 있는 수\n",
    "                  : 가장 가운데에 있는 수가 2개이면? 중앙 두 수의 평균을 사용\n",
    "                  : np.median(x)\n",
    " - 사분위수(quartile) : 데이터를 크기대로 정렬하였을 때 1/4, 2/4, 3/4 위치에 있는 수\n",
    "                      : 1사분위수, 2사분위수, 3사분위수\n",
    "                      : 데이터가 100개라면 25번째 순서까지가 1사분위수\n",
    "                      : 위치를 1/100 단위로 나눈 백분위수(percentile)를 사용하기도 함\n",
    "                        이 때는 1사분위수는 25%\n",
    "                      : np.percentile(x, 0)   # 최소값\n",
    "                      : np.percentile(x, 25)  # 1사분위수\n",
    "                      : np.percentile(x, 50)  # 2사분위수\n",
    "                      : np.percentile(x, 75)  # 3사분위수\n",
    "                      : np.percentile(x, 100) # 최대값\n",
    "\n",
    " - 합계 : np.sum()\n",
    " - 여러 개의 수를 연속하여 곱하기 : np.product()\n",
    "\n",
    "'''"
   ]
  },
  {
   "cell_type": "code",
   "execution_count": 2,
   "id": "d7b2f627",
   "metadata": {},
   "outputs": [],
   "source": [
    "import numpy as np"
   ]
  },
  {
   "cell_type": "code",
   "execution_count": 5,
   "id": "fedfa730",
   "metadata": {},
   "outputs": [
    {
     "data": {
      "text/plain": [
       "array([ 18,   5,  10,   2,   3,  11,  -3,  -5, -30,  15,   6,  78, -13,\n",
       "         9,   5,   6,   7,   3,  80,  -4])"
      ]
     },
     "execution_count": 5,
     "metadata": {},
     "output_type": "execute_result"
    }
   ],
   "source": [
    "x = np.array([18, 5, 10, 2, 3, 11, -3, -5, -30, 15, 6, 78, -13, 9, 5, 6, 7, 3, 80, -4]); x"
   ]
  },
  {
   "cell_type": "code",
   "execution_count": 6,
   "id": "11cc7139",
   "metadata": {},
   "outputs": [
    {
     "data": {
      "text/plain": [
       "20"
      ]
     },
     "execution_count": 6,
     "metadata": {},
     "output_type": "execute_result"
    }
   ],
   "source": [
    "len(x)"
   ]
  },
  {
   "cell_type": "code",
   "execution_count": 7,
   "id": "96707041",
   "metadata": {},
   "outputs": [
    {
     "data": {
      "text/plain": [
       "10.15"
      ]
     },
     "execution_count": 7,
     "metadata": {},
     "output_type": "execute_result"
    }
   ],
   "source": [
    "# 평균\n",
    "np.mean(x)"
   ]
  },
  {
   "cell_type": "code",
   "execution_count": 8,
   "id": "b84b8868",
   "metadata": {},
   "outputs": [
    {
     "data": {
      "text/plain": [
       "629.3274999999999"
      ]
     },
     "execution_count": 8,
     "metadata": {},
     "output_type": "execute_result"
    }
   ],
   "source": [
    "# 분산\n",
    "np.var(x)"
   ]
  },
  {
   "cell_type": "code",
   "execution_count": 9,
   "id": "bf0dfddd",
   "metadata": {},
   "outputs": [
    {
     "data": {
      "text/plain": [
       "25.086400698386363"
      ]
     },
     "execution_count": 9,
     "metadata": {},
     "output_type": "execute_result"
    }
   ],
   "source": [
    "# 표준편차\n",
    "np.std(x)"
   ]
  },
  {
   "cell_type": "code",
   "execution_count": 12,
   "id": "cad5fe2c",
   "metadata": {},
   "outputs": [
    {
     "name": "stdout",
     "output_type": "stream",
     "text": [
      "80\n",
      "-30\n",
      "5.5\n"
     ]
    }
   ],
   "source": [
    "# 최대값, 최소값, 중앙값\n",
    "print(np.max(x))\n",
    "print(np.min(x))\n",
    "print(np.median(x))"
   ]
  },
  {
   "cell_type": "code",
   "execution_count": 13,
   "id": "4fba99d0",
   "metadata": {},
   "outputs": [
    {
     "name": "stdout",
     "output_type": "stream",
     "text": [
      "-30.0\n",
      "0.75\n",
      "5.5\n",
      "10.25\n",
      "80.0\n"
     ]
    }
   ],
   "source": [
    "# 사분위수\n",
    "print(np.percentile(x, 0))\n",
    "print(np.percentile(x, 25))\n",
    "print(np.percentile(x, 50))\n",
    "print(np.percentile(x, 75))\n",
    "print(np.percentile(x, 100))\n"
   ]
  },
  {
   "cell_type": "code",
   "execution_count": 14,
   "id": "349acb60",
   "metadata": {},
   "outputs": [
    {
     "data": {
      "text/plain": [
       "203"
      ]
     },
     "execution_count": 14,
     "metadata": {},
     "output_type": "execute_result"
    }
   ],
   "source": [
    "# 합계\n",
    "np.sum(x)"
   ]
  },
  {
   "cell_type": "code",
   "execution_count": 15,
   "id": "75d2f757",
   "metadata": {},
   "outputs": [
    {
     "data": {
      "text/plain": [
       "-959193088"
      ]
     },
     "execution_count": 15,
     "metadata": {},
     "output_type": "execute_result"
    }
   ],
   "source": [
    "# 연속 곱\n",
    "np.product(x)"
   ]
  },
  {
   "cell_type": "markdown",
   "id": "e6b7a0f8",
   "metadata": {},
   "source": [
    "# 선형대수"
   ]
  },
  {
   "cell_type": "code",
   "execution_count": null,
   "id": "f20cca95",
   "metadata": {},
   "outputs": [],
   "source": [
    "'''\n",
    "# 선형대수(linear algebra) : 데이터 분석에 필요한 여러 계산을 돕기 위한 학문\n",
    " > 데이터 유형 : \n",
    " - 스칼라(scalar) : 하나의 숫자로 이루어진 데이터\n",
    " - 벡터(vector) : 여러 개의 숫자로 이루어진 데이터(data record)\n",
    " - 행렬(matrix) : 벡터가 여러 개 있는 데이터 집합\n",
    " \n",
    "'''"
   ]
  },
  {
   "cell_type": "code",
   "execution_count": 16,
   "id": "36e845cf",
   "metadata": {},
   "outputs": [],
   "source": [
    "import numpy as np"
   ]
  },
  {
   "cell_type": "code",
   "execution_count": 17,
   "id": "69fec1af",
   "metadata": {},
   "outputs": [
    {
     "data": {
      "text/plain": [
       "1"
      ]
     },
     "execution_count": 17,
     "metadata": {},
     "output_type": "execute_result"
    }
   ],
   "source": [
    "# 스칼라\n",
    "x = 1\n",
    "x"
   ]
  },
  {
   "cell_type": "code",
   "execution_count": 20,
   "id": "df55684d",
   "metadata": {},
   "outputs": [
    {
     "data": {
      "text/plain": [
       "array([[2],\n",
       "       [2],\n",
       "       [3]])"
      ]
     },
     "execution_count": 20,
     "metadata": {},
     "output_type": "execute_result"
    }
   ],
   "source": [
    "# 벡터\n",
    "# numpy에서 벡터를 표현할 때 벡터를 열의 개수가 하나인 2차원 배열 객체로 표현하는 것을 권장\n",
    "\n",
    "x = np.array([[2], [2], [3]])\n",
    "x"
   ]
  },
  {
   "cell_type": "code",
   "execution_count": 22,
   "id": "c7b39c8b",
   "metadata": {},
   "outputs": [
    {
     "data": {
      "text/plain": [
       "array([2, 2, 3])"
      ]
     },
     "execution_count": 22,
     "metadata": {},
     "output_type": "execute_result"
    }
   ],
   "source": [
    "# 1차원 배열 객체도 대부분 vector로 인정\n",
    "x = np.array([2, 2, 3])\n",
    "x"
   ]
  },
  {
   "cell_type": "code",
   "execution_count": 26,
   "id": "b3315118",
   "metadata": {},
   "outputs": [
    {
     "data": {
      "text/plain": [
       "array([[2, 2],\n",
       "       [3, 3],\n",
       "       [4, 4],\n",
       "       [5, 5]])"
      ]
     },
     "execution_count": 26,
     "metadata": {},
     "output_type": "execute_result"
    }
   ],
   "source": [
    "# 행렬\n",
    "# 복수의 데이터 집합을 행렬로 표현\n",
    "\n",
    "# 전치 행렬 : 행렬에서 가장 기본이 되는 연산 (행과 열을 바꾸는 연산)\n",
    "#          : 전치 연산으로 만들어진 행렬을 원래 행렬에 대한 전치 행렬이라고 부릅니다\n",
    "\n",
    "x = np.array([[2, 2], [3, 3], [4, 4], [5, 5]])\n",
    "x"
   ]
  },
  {
   "cell_type": "code",
   "execution_count": 27,
   "id": "31e387b7",
   "metadata": {},
   "outputs": [
    {
     "data": {
      "text/plain": [
       "array([[2, 3, 4, 5],\n",
       "       [2, 3, 4, 5]])"
      ]
     },
     "execution_count": 27,
     "metadata": {},
     "output_type": "execute_result"
    }
   ],
   "source": [
    "x.T  # T 속성(Attribute)을 이용하여 전치 행렬을 적용. T가 메소드가 아님에 유의"
   ]
  },
  {
   "cell_type": "code",
   "execution_count": 29,
   "id": "02ec6c04",
   "metadata": {},
   "outputs": [
    {
     "data": {
      "text/plain": [
       "array([[2],\n",
       "       [2],\n",
       "       [3]])"
      ]
     },
     "execution_count": 29,
     "metadata": {},
     "output_type": "execute_result"
    }
   ],
   "source": [
    "x = np.array([[2], [2], [3]])\n",
    "x"
   ]
  },
  {
   "cell_type": "code",
   "execution_count": 30,
   "id": "90ad0f24",
   "metadata": {},
   "outputs": [
    {
     "data": {
      "text/plain": [
       "array([[2, 2, 3]])"
      ]
     },
     "execution_count": 30,
     "metadata": {},
     "output_type": "execute_result"
    }
   ],
   "source": [
    "x.T          # 벡터에 대한 전치 연산 결과는 행이 1개인 행렬이 되고, 이를 행 벡터 (row vector)"
   ]
  },
  {
   "cell_type": "code",
   "execution_count": 36,
   "id": "9312584b",
   "metadata": {},
   "outputs": [
    {
     "data": {
      "text/plain": [
       "array([2, 2, 3])"
      ]
     },
     "execution_count": 36,
     "metadata": {},
     "output_type": "execute_result"
    }
   ],
   "source": [
    "x = np.array([2, 2, 3])\n",
    "x"
   ]
  },
  {
   "cell_type": "code",
   "execution_count": 37,
   "id": "c38f99a9",
   "metadata": {},
   "outputs": [
    {
     "data": {
      "text/plain": [
       "array([2, 2, 3])"
      ]
     },
     "execution_count": 37,
     "metadata": {},
     "output_type": "execute_result"
    }
   ],
   "source": [
    "x.T         # rank가 1인 ndarray는 전치 연산이 정의되지 않는다"
   ]
  },
  {
   "cell_type": "code",
   "execution_count": null,
   "id": "215a753c",
   "metadata": {},
   "outputs": [],
   "source": [
    "'''\n",
    "# 특수한 벡터와 행렬\n",
    "# 영벡터 : 모든 원소가 0인 n차원 벡터\n",
    "  일벡터 : 모든 원소가 1인 n차원 벡터\n",
    "  \n",
    "# 정방행렬(square matrix)\n",
    " : 행의 개수와 열의 개수가 같은 행렬\n",
    " \n",
    "# 대각행렬 : 모든 비대각 요소\n",
    "           : np.diag\n",
    " - 단위행렬 : 대각행렬 중에서 모든 대각요소(주요소) 값이 1인 대각행렬 (identity matrix)\n",
    "            : np.identity, np.eye\n",
    " - 대칭행렬 : 전치 연산을 통해서 얻은 정치행렬과 원래의 행렬이 같은 경우 (sysmmetric matrix)\n",
    "           : 정방행렬만이 될 수 있다.\n",
    " : \n",
    "'''"
   ]
  },
  {
   "cell_type": "code",
   "execution_count": 39,
   "id": "33b36503",
   "metadata": {},
   "outputs": [
    {
     "data": {
      "text/plain": [
       "array([[1, 0, 0],\n",
       "       [0, 2, 0],\n",
       "       [0, 0, 3]])"
      ]
     },
     "execution_count": 39,
     "metadata": {},
     "output_type": "execute_result"
    }
   ],
   "source": [
    "# 대각행렬\n",
    "np.diag([1, 2, 3])"
   ]
  },
  {
   "cell_type": "code",
   "execution_count": 40,
   "id": "b4d39aef",
   "metadata": {},
   "outputs": [
    {
     "data": {
      "text/plain": [
       "array([[1., 0., 0.],\n",
       "       [0., 1., 0.],\n",
       "       [0., 0., 1.]])"
      ]
     },
     "execution_count": 40,
     "metadata": {},
     "output_type": "execute_result"
    }
   ],
   "source": [
    "np.eye(3)"
   ]
  },
  {
   "cell_type": "code",
   "execution_count": 45,
   "id": "eb571d7f",
   "metadata": {},
   "outputs": [],
   "source": [
    "I = np.identity(3)"
   ]
  },
  {
   "cell_type": "code",
   "execution_count": 58,
   "id": "41d636ab",
   "metadata": {},
   "outputs": [
    {
     "data": {
      "text/plain": [
       "array([1., 1., 1.])"
      ]
     },
     "execution_count": 58,
     "metadata": {},
     "output_type": "execute_result"
    }
   ],
   "source": [
    "np.diag(I)"
   ]
  },
  {
   "cell_type": "code",
   "execution_count": null,
   "id": "4e65a663",
   "metadata": {},
   "outputs": [],
   "source": [
    "'''\n",
    "# 벡터의 내적\n",
    "# 벡터의 공간에서 정의된 이중 선형(bilinear) 함수의 일종. inner product 또는 dot product라고 부름\n",
    "# 행렬 곱셈의 결과 행렬은 앞 행렬의 행 벡터와 뒤 행렬의 열벡터를 내적한 값을 스칼라로 가지는 행렬\n",
    "'''"
   ]
  },
  {
   "cell_type": "code",
   "execution_count": 61,
   "id": "e105a35c",
   "metadata": {},
   "outputs": [],
   "source": [
    "# 행렬\n",
    "x = np.array([[1,2],[3,4]])\n",
    "y = np.array([[5,6],[7,8]])"
   ]
  },
  {
   "cell_type": "code",
   "execution_count": 59,
   "id": "52a8cce9",
   "metadata": {},
   "outputs": [],
   "source": [
    "# 벡터\n",
    "v = np.array([9, 10])\n",
    "w = np.array([11, 12])"
   ]
  },
  {
   "cell_type": "code",
   "execution_count": 60,
   "id": "fd4526d3",
   "metadata": {},
   "outputs": [
    {
     "data": {
      "text/plain": [
       "219"
      ]
     },
     "execution_count": 60,
     "metadata": {},
     "output_type": "execute_result"
    }
   ],
   "source": [
    "# 벡터의 내적\n",
    "v.dot(w)        "
   ]
  },
  {
   "cell_type": "code",
   "execution_count": 53,
   "id": "ecd651fa",
   "metadata": {},
   "outputs": [
    {
     "data": {
      "text/plain": [
       "219"
      ]
     },
     "execution_count": 53,
     "metadata": {},
     "output_type": "execute_result"
    }
   ],
   "source": [
    "np.dot(v, w)"
   ]
  },
  {
   "cell_type": "code",
   "execution_count": 62,
   "id": "4679e394",
   "metadata": {},
   "outputs": [
    {
     "name": "stdout",
     "output_type": "stream",
     "text": [
      "[[1 2]\n",
      " [3 4]]\n",
      "-----------------\n",
      "[ 9 10]\n"
     ]
    }
   ],
   "source": [
    "# 매트릭스 벡터 내적\n",
    "print(x)\n",
    "print('-----------------')\n",
    "print(v)"
   ]
  },
  {
   "cell_type": "code",
   "execution_count": 63,
   "id": "56e05e65",
   "metadata": {},
   "outputs": [
    {
     "data": {
      "text/plain": [
       "array([29, 67])"
      ]
     },
     "execution_count": 63,
     "metadata": {},
     "output_type": "execute_result"
    }
   ],
   "source": [
    "x.dot(v)"
   ]
  },
  {
   "cell_type": "code",
   "execution_count": 64,
   "id": "5e62bd5e",
   "metadata": {},
   "outputs": [
    {
     "data": {
      "text/plain": [
       "array([29, 67])"
      ]
     },
     "execution_count": 64,
     "metadata": {},
     "output_type": "execute_result"
    }
   ],
   "source": [
    "np.dot(x, v)"
   ]
  },
  {
   "cell_type": "code",
   "execution_count": 65,
   "id": "faf98f3b",
   "metadata": {},
   "outputs": [
    {
     "data": {
      "text/plain": [
       "array([[19, 22],\n",
       "       [43, 50]])"
      ]
     },
     "execution_count": 65,
     "metadata": {},
     "output_type": "execute_result"
    }
   ],
   "source": [
    "# 매트릭스, 매트릭스 내적\n",
    "x.dot(y)"
   ]
  },
  {
   "cell_type": "code",
   "execution_count": 66,
   "id": "c09188e8",
   "metadata": {},
   "outputs": [
    {
     "data": {
      "text/plain": [
       "array([[19, 22],\n",
       "       [43, 50]])"
      ]
     },
     "execution_count": 66,
     "metadata": {},
     "output_type": "execute_result"
    }
   ],
   "source": [
    "np.dot(x,y)"
   ]
  },
  {
   "cell_type": "markdown",
   "id": "53f839ab",
   "metadata": {},
   "source": [
    "# BroadCasting"
   ]
  },
  {
   "cell_type": "code",
   "execution_count": null,
   "id": "8552dcde",
   "metadata": {},
   "outputs": [],
   "source": [
    "'''\n",
    "# 모양(shape)이 다른 배열들 간의 연산이 어떤 조건을 만족했을 때 가능하도록 배열을 자동적으로 변환하는 것\n",
    "\n",
    "# ex)\n",
    "1 2               +  10  10\n",
    "3 4                  10  10\n",
    "\n",
    "# 브로드캐스팅이 일어날 수 있는 조건\n",
    " - 차원 크기가 1, 즉 스칼라이면 가능\n",
    " - 차원 크기가 1이 아니라면 차원의 짝이 맞는 조건 (축의 길이가 같을 때 등등)\n",
    "'''"
   ]
  },
  {
   "cell_type": "code",
   "execution_count": 69,
   "id": "cdc7d6b7",
   "metadata": {},
   "outputs": [],
   "source": [
    "import numpy as np"
   ]
  },
  {
   "cell_type": "code",
   "execution_count": 70,
   "id": "3576a434",
   "metadata": {},
   "outputs": [
    {
     "data": {
      "text/plain": [
       "array([[1, 2],\n",
       "       [3, 4]])"
      ]
     },
     "execution_count": 70,
     "metadata": {},
     "output_type": "execute_result"
    }
   ],
   "source": [
    "a = np.array([[1, 2], [3, 4]])\n",
    "a"
   ]
  },
  {
   "cell_type": "code",
   "execution_count": 71,
   "id": "1d9ab09b",
   "metadata": {},
   "outputs": [],
   "source": [
    "b = 10"
   ]
  },
  {
   "cell_type": "code",
   "execution_count": 72,
   "id": "768a0158",
   "metadata": {},
   "outputs": [
    {
     "data": {
      "text/plain": [
       "array([[11, 12],\n",
       "       [13, 14]])"
      ]
     },
     "execution_count": 72,
     "metadata": {},
     "output_type": "execute_result"
    }
   ],
   "source": [
    "a + b     # 자동으로 브로드캐스팅이 적용된 상태"
   ]
  },
  {
   "cell_type": "code",
   "execution_count": 74,
   "id": "6e444e95",
   "metadata": {},
   "outputs": [],
   "source": [
    "a = np.array([1, 2, 3, 4])\n",
    "b = np.array([1, 2])"
   ]
  },
  {
   "cell_type": "code",
   "execution_count": 75,
   "id": "6b4d6827",
   "metadata": {},
   "outputs": [
    {
     "ename": "ValueError",
     "evalue": "operands could not be broadcast together with shapes (4,) (2,) ",
     "output_type": "error",
     "traceback": [
      "\u001b[1;31m---------------------------------------------------------------------------\u001b[0m",
      "\u001b[1;31mValueError\u001b[0m                                Traceback (most recent call last)",
      "\u001b[1;32m<ipython-input-75-bd58363a63fc>\u001b[0m in \u001b[0;36m<module>\u001b[1;34m\u001b[0m\n\u001b[1;32m----> 1\u001b[1;33m \u001b[0ma\u001b[0m \u001b[1;33m+\u001b[0m \u001b[0mb\u001b[0m\u001b[1;33m\u001b[0m\u001b[1;33m\u001b[0m\u001b[0m\n\u001b[0m",
      "\u001b[1;31mValueError\u001b[0m: operands could not be broadcast together with shapes (4,) (2,) "
     ]
    }
   ],
   "source": [
    "a + b        # 브로드캐스팅 적용하려면 한쪽이 스칼라가 기본"
   ]
  },
  {
   "cell_type": "code",
   "execution_count": 76,
   "id": "9ad96e2a",
   "metadata": {},
   "outputs": [],
   "source": [
    "x = np.arange(3)\n",
    "y = 5"
   ]
  },
  {
   "cell_type": "code",
   "execution_count": 77,
   "id": "2ebe0d0b",
   "metadata": {},
   "outputs": [
    {
     "data": {
      "text/plain": [
       "array([5, 6, 7])"
      ]
     },
     "execution_count": 77,
     "metadata": {},
     "output_type": "execute_result"
    }
   ],
   "source": [
    "x + y"
   ]
  },
  {
   "cell_type": "code",
   "execution_count": 78,
   "id": "32efc196",
   "metadata": {},
   "outputs": [
    {
     "data": {
      "text/plain": [
       "array([[1., 1., 1.],\n",
       "       [1., 1., 1.],\n",
       "       [1., 1., 1.]])"
      ]
     },
     "execution_count": 78,
     "metadata": {},
     "output_type": "execute_result"
    }
   ],
   "source": [
    "x = np.ones((3, 3))\n",
    "x"
   ]
  },
  {
   "cell_type": "code",
   "execution_count": 79,
   "id": "8e0134c0",
   "metadata": {},
   "outputs": [
    {
     "data": {
      "text/plain": [
       "array([0, 1, 2])"
      ]
     },
     "execution_count": 79,
     "metadata": {},
     "output_type": "execute_result"
    }
   ],
   "source": [
    "y = np.arange(3)\n",
    "y "
   ]
  },
  {
   "cell_type": "code",
   "execution_count": 80,
   "id": "0d9c37b3",
   "metadata": {},
   "outputs": [
    {
     "data": {
      "text/plain": [
       "array([[1., 2., 3.],\n",
       "       [1., 2., 3.],\n",
       "       [1., 2., 3.]])"
      ]
     },
     "execution_count": 80,
     "metadata": {},
     "output_type": "execute_result"
    }
   ],
   "source": [
    "x + y"
   ]
  },
  {
   "cell_type": "code",
   "execution_count": 81,
   "id": "209be685",
   "metadata": {},
   "outputs": [
    {
     "data": {
      "text/plain": [
       "array([[0],\n",
       "       [1],\n",
       "       [2]])"
      ]
     },
     "execution_count": 81,
     "metadata": {},
     "output_type": "execute_result"
    }
   ],
   "source": [
    "x = np.arange(3).reshape(3, 1)\n",
    "x"
   ]
  },
  {
   "cell_type": "code",
   "execution_count": 83,
   "id": "0bb06049",
   "metadata": {},
   "outputs": [
    {
     "data": {
      "text/plain": [
       "array([[0, 1, 2],\n",
       "       [1, 2, 3],\n",
       "       [2, 3, 4]])"
      ]
     },
     "execution_count": 83,
     "metadata": {},
     "output_type": "execute_result"
    }
   ],
   "source": [
    "x + y"
   ]
  },
  {
   "cell_type": "code",
   "execution_count": null,
   "id": "24bd2060",
   "metadata": {},
   "outputs": [],
   "source": [
    "# 3차원 배열"
   ]
  },
  {
   "cell_type": "code",
   "execution_count": 85,
   "id": "0ddaae96",
   "metadata": {},
   "outputs": [
    {
     "data": {
      "text/plain": [
       "array([[[ 1,  2,  3,  4],\n",
       "        [ 5,  6,  7,  8],\n",
       "        [ 9, 10, 11, 12]],\n",
       "\n",
       "       [[13, 14, 15, 16],\n",
       "        [17, 18, 19, 20],\n",
       "        [21, 22, 23, 24]]])"
      ]
     },
     "execution_count": 85,
     "metadata": {},
     "output_type": "execute_result"
    }
   ],
   "source": [
    "d = np.array([[[1, 2, 3, 4],\n",
    "               [5, 6, 7, 8],\n",
    "               [9, 10, 11, 12]],\n",
    "              [[13, 14, 15, 16],\n",
    "               [17, 18, 19, 20],\n",
    "               [21, 22, 23, 24]]\n",
    "              ])\n",
    "d"
   ]
  },
  {
   "cell_type": "code",
   "execution_count": 88,
   "id": "57d61002",
   "metadata": {},
   "outputs": [
    {
     "name": "stdout",
     "output_type": "stream",
     "text": [
      "2\n",
      "3\n",
      "4\n"
     ]
    }
   ],
   "source": [
    "print(len(d))       # 깊이\n",
    "print(len(d[0]))    # 행\n",
    "print(len(d[0][0])) # 열"
   ]
  },
  {
   "cell_type": "code",
   "execution_count": 90,
   "id": "915f725b",
   "metadata": {},
   "outputs": [
    {
     "data": {
      "text/plain": [
       "array([[[1, 1, 1, 1],\n",
       "        [1, 1, 1, 1],\n",
       "        [1, 1, 1, 1]],\n",
       "\n",
       "       [[1, 1, 1, 1],\n",
       "        [1, 1, 1, 1],\n",
       "        [1, 1, 1, 1]]], dtype=int32)"
      ]
     },
     "execution_count": 90,
     "metadata": {},
     "output_type": "execute_result"
    }
   ],
   "source": [
    "# 1로 채운 3차원 배열\n",
    "d = np.ones((2, 3, 4), dtype='i')    # (깊이, 행, 열)\n",
    "d"
   ]
  },
  {
   "cell_type": "code",
   "execution_count": 92,
   "id": "a90925ef",
   "metadata": {},
   "outputs": [
    {
     "data": {
      "text/plain": [
       "array([[[1., 1., 1., 1.],\n",
       "        [1., 1., 1., 1.],\n",
       "        [1., 1., 1., 1.]],\n",
       "\n",
       "       [[1., 1., 1., 1.],\n",
       "        [1., 1., 1., 1.],\n",
       "        [1., 1., 1., 1.]]], dtype=float32)"
      ]
     },
     "execution_count": 92,
     "metadata": {},
     "output_type": "execute_result"
    }
   ],
   "source": [
    "# 다른 배열과 같은 형태의 배열을 만들고 싶을 때 : ones_like\n",
    "d2 = np.ones_like(d, dtype='f')\n",
    "d2"
   ]
  },
  {
   "cell_type": "code",
   "execution_count": 95,
   "id": "aa0614e3",
   "metadata": {},
   "outputs": [
    {
     "data": {
      "text/plain": [
       "array([[[1, 1, 1, 1],\n",
       "        [1, 1, 1, 1],\n",
       "        [1, 1, 1, 1]],\n",
       "\n",
       "       [[1, 1, 1, 1],\n",
       "        [1, 1, 1, 1],\n",
       "        [1, 1, 1, 1]]], dtype=int32)"
      ]
     },
     "execution_count": 95,
     "metadata": {},
     "output_type": "execute_result"
    }
   ],
   "source": [
    "# 같은 형태 배열 : copy()\n",
    "copy = np.copy(d); copy"
   ]
  },
  {
   "cell_type": "code",
   "execution_count": 96,
   "id": "c836cf43",
   "metadata": {},
   "outputs": [
    {
     "data": {
      "text/plain": [
       "array([[[1, 1, 1, 1],\n",
       "        [1, 1, 1, 1],\n",
       "        [1, 1, 1, 1]],\n",
       "\n",
       "       [[1, 1, 1, 1],\n",
       "        [1, 1, 1, 1],\n",
       "        [1, 1, 1, 1]]], dtype=int32)"
      ]
     },
     "execution_count": 96,
     "metadata": {},
     "output_type": "execute_result"
    }
   ],
   "source": [
    "# 대입으로도 가능\n",
    "copy2 = copy\n",
    "copy2"
   ]
  },
  {
   "cell_type": "code",
   "execution_count": 103,
   "id": "ddcdc6dd",
   "metadata": {},
   "outputs": [
    {
     "data": {
      "text/plain": [
       "array([[[1., 1.],\n",
       "        [1., 1.],\n",
       "        [1., 1.],\n",
       "        [1., 1.]],\n",
       "\n",
       "       [[1., 1.],\n",
       "        [1., 1.],\n",
       "        [1., 1.],\n",
       "        [1., 1.]],\n",
       "\n",
       "       [[1., 1.],\n",
       "        [1., 1.],\n",
       "        [1., 1.],\n",
       "        [1., 1.]]])"
      ]
     },
     "execution_count": 103,
     "metadata": {},
     "output_type": "execute_result"
    }
   ],
   "source": [
    "# 3차원도 브로드캐스팅 가능\n",
    "d3 = np.ones((3, 4, 2))\n",
    "d3"
   ]
  },
  {
   "cell_type": "code",
   "execution_count": 101,
   "id": "a62833ab",
   "metadata": {},
   "outputs": [
    {
     "data": {
      "text/plain": [
       "array([[0, 1],\n",
       "       [2, 3],\n",
       "       [3, 4],\n",
       "       [5, 6]])"
      ]
     },
     "execution_count": 101,
     "metadata": {},
     "output_type": "execute_result"
    }
   ],
   "source": [
    "d2 = np.array([[0, 1], [2, 3], [3, 4], [5, 6]])\n",
    "d2"
   ]
  },
  {
   "cell_type": "code",
   "execution_count": 105,
   "id": "77bc3b36",
   "metadata": {},
   "outputs": [
    {
     "data": {
      "text/plain": [
       "array([[[1., 2.],\n",
       "        [3., 4.],\n",
       "        [4., 5.],\n",
       "        [6., 7.]],\n",
       "\n",
       "       [[1., 2.],\n",
       "        [3., 4.],\n",
       "        [4., 5.],\n",
       "        [6., 7.]],\n",
       "\n",
       "       [[1., 2.],\n",
       "        [3., 4.],\n",
       "        [4., 5.],\n",
       "        [6., 7.]]])"
      ]
     },
     "execution_count": 105,
     "metadata": {},
     "output_type": "execute_result"
    }
   ],
   "source": [
    "d3 + d2"
   ]
  },
  {
   "cell_type": "code",
   "execution_count": null,
   "id": "2d3c0456",
   "metadata": {},
   "outputs": [],
   "source": []
  },
  {
   "cell_type": "code",
   "execution_count": null,
   "id": "fbecc55e",
   "metadata": {},
   "outputs": [],
   "source": []
  },
  {
   "cell_type": "code",
   "execution_count": null,
   "id": "0a167768",
   "metadata": {},
   "outputs": [],
   "source": []
  },
  {
   "cell_type": "code",
   "execution_count": null,
   "id": "363a86b8",
   "metadata": {},
   "outputs": [],
   "source": []
  },
  {
   "cell_type": "code",
   "execution_count": null,
   "id": "017e1667",
   "metadata": {},
   "outputs": [],
   "source": []
  }
 ],
 "metadata": {
  "kernelspec": {
   "display_name": "Python 3",
   "language": "python",
   "name": "python3"
  },
  "language_info": {
   "codemirror_mode": {
    "name": "ipython",
    "version": 3
   },
   "file_extension": ".py",
   "mimetype": "text/x-python",
   "name": "python",
   "nbconvert_exporter": "python",
   "pygments_lexer": "ipython3",
   "version": "3.8.8"
  }
 },
 "nbformat": 4,
 "nbformat_minor": 5
}
