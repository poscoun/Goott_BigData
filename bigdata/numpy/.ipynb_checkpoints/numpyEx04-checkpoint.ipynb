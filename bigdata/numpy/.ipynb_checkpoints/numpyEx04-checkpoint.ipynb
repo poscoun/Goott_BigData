{
 "cells": [
  {
   "cell_type": "markdown",
   "id": "4284004f",
   "metadata": {},
   "source": [
    "# 난수(random number)"
   ]
  },
  {
   "cell_type": "code",
   "execution_count": null,
   "id": "c6e7d631",
   "metadata": {},
   "outputs": [],
   "source": [
    "'''\n",
    "# 난수 발생 : np.rand() - 0부터 1사이의 실수\n",
    "# seed(씨앗값) : 보통의 프로그래밍 언어는 난수값이 보통 설정되어있음\n",
    "               : 조금 더 난수를 만들고 싶으면 씨앗값을 바꾸는 형태로 사용 \n",
    "               \n",
    "               \n",
    "'''"
   ]
  },
  {
   "cell_type": "code",
   "execution_count": 1,
   "id": "3b1e7213",
   "metadata": {},
   "outputs": [],
   "source": [
    "import numpy as np"
   ]
  },
  {
   "cell_type": "code",
   "execution_count": 2,
   "id": "627d99fb",
   "metadata": {},
   "outputs": [
    {
     "data": {
      "text/plain": [
       "array([0.5488135 , 0.71518937, 0.60276338, 0.54488318, 0.4236548 ])"
      ]
     },
     "execution_count": 2,
     "metadata": {},
     "output_type": "execute_result"
    }
   ],
   "source": [
    "np.random.seed(0)\n",
    "np.random.rand(5)"
   ]
  },
  {
   "cell_type": "code",
   "execution_count": 3,
   "id": "a3207124",
   "metadata": {},
   "outputs": [
    {
     "data": {
      "text/plain": [
       "array([0.64589411, 0.43758721, 0.891773  , 0.96366276, 0.38344152])"
      ]
     },
     "execution_count": 3,
     "metadata": {},
     "output_type": "execute_result"
    }
   ],
   "source": [
    "np.random.rand(5)"
   ]
  },
  {
   "cell_type": "code",
   "execution_count": 4,
   "id": "aef49512",
   "metadata": {},
   "outputs": [
    {
     "data": {
      "text/plain": [
       "array([0.5488135 , 0.71518937, 0.60276338, 0.54488318, 0.4236548 ])"
      ]
     },
     "execution_count": 4,
     "metadata": {},
     "output_type": "execute_result"
    }
   ],
   "source": [
    "np.random.seed(0)\n",
    "np.random.rand(5)"
   ]
  },
  {
   "cell_type": "code",
   "execution_count": 5,
   "id": "42063c8b",
   "metadata": {},
   "outputs": [
    {
     "data": {
      "text/plain": [
       "array([0.4359949 , 0.02592623, 0.54966248, 0.43532239, 0.4203678 ])"
      ]
     },
     "execution_count": 5,
     "metadata": {},
     "output_type": "execute_result"
    }
   ],
   "source": [
    "np.random.seed(2)         # 시드를 바꾸면 그때그떄 다른 난수 가능\n",
    "np.random.rand(5)"
   ]
  },
  {
   "cell_type": "code",
   "execution_count": 8,
   "id": "bc07adee",
   "metadata": {},
   "outputs": [
    {
     "name": "stdout",
     "output_type": "stream",
     "text": [
      "0.505246090121704\n",
      "0.06528650438687811\n",
      "0.42812232759738944\n",
      "0.09653091566061256\n",
      "0.12715997170127746\n",
      "0.5967453089785958\n",
      "0.22601200060423587\n",
      "0.10694568430998297\n",
      "0.2203062070705597\n",
      "0.34982628500329926\n"
     ]
    }
   ],
   "source": [
    "for i in range(10):\n",
    "    print(np.random.rand())"
   ]
  },
  {
   "cell_type": "code",
   "execution_count": 6,
   "id": "f68c7f1f",
   "metadata": {},
   "outputs": [
    {
     "data": {
      "text/plain": [
       "array([0.33033482, 0.20464863, 0.61927097, 0.29965467, 0.26682728,\n",
       "       0.62113383, 0.52914209, 0.13457995, 0.51357812, 0.18443987])"
      ]
     },
     "execution_count": 6,
     "metadata": {},
     "output_type": "execute_result"
    }
   ],
   "source": [
    "np.random.rand(10)"
   ]
  },
  {
   "cell_type": "code",
   "execution_count": 7,
   "id": "a012d0cf",
   "metadata": {},
   "outputs": [
    {
     "name": "stdout",
     "output_type": "stream",
     "text": [
      "[0 1 2 3 4 5 6 7 8 9]\n",
      "-----------------------------------\n",
      "[5 0 8 3 4 9 1 2 6 7]\n"
     ]
    }
   ],
   "source": [
    "# shuffle\n",
    "x = np.arange(10)\n",
    "print(x)\n",
    "print('-----------------------------------')\n",
    "np.random.shuffle(x)\n",
    "print(x)"
   ]
  },
  {
   "cell_type": "code",
   "execution_count": null,
   "id": "3ee5bbe6",
   "metadata": {},
   "outputs": [],
   "source": [
    "'''\n",
    "# 데이터 샘플링 : 이미 있는 데이터 집합에서 무작위로 선택하는 것 (sampling)\n",
    "# np.random.choice (원본데이터, size, replace=True/False, p)\n",
    "\n",
    "- 원본 데이터 : (range(원본데이터))\n",
    "- size : 샘플 숫자\n",
    "- replace : True이면 한 번 선택한 데이터를 다시 선택할 수 있음\n",
    "- p : 각 데이터가 선택될 수 있는 확률\n",
    "'''"
   ]
  },
  {
   "cell_type": "code",
   "execution_count": 9,
   "id": "2f4d9982",
   "metadata": {},
   "outputs": [
    {
     "data": {
      "text/plain": [
       "array([3, 4, 1, 2, 0])"
      ]
     },
     "execution_count": 9,
     "metadata": {},
     "output_type": "execute_result"
    }
   ],
   "source": [
    "x = np.random.choice(5, 5, replace=False); x"
   ]
  },
  {
   "cell_type": "code",
   "execution_count": 13,
   "id": "3a42102c",
   "metadata": {},
   "outputs": [
    {
     "data": {
      "text/plain": [
       "array([2, 0, 3])"
      ]
     },
     "execution_count": 13,
     "metadata": {},
     "output_type": "execute_result"
    }
   ],
   "source": [
    "x1 = np.random.choice(5, 3, replace=False); x1"
   ]
  },
  {
   "cell_type": "code",
   "execution_count": 16,
   "id": "7e71d1a6",
   "metadata": {},
   "outputs": [
    {
     "ename": "ValueError",
     "evalue": "Cannot take a larger sample than population when 'replace=False'",
     "output_type": "error",
     "traceback": [
      "\u001b[1;31m---------------------------------------------------------------------------\u001b[0m",
      "\u001b[1;31mValueError\u001b[0m                                Traceback (most recent call last)",
      "\u001b[1;32m<ipython-input-16-b58dd7438e03>\u001b[0m in \u001b[0;36m<module>\u001b[1;34m\u001b[0m\n\u001b[1;32m----> 1\u001b[1;33m \u001b[0mx2\u001b[0m \u001b[1;33m=\u001b[0m \u001b[0mnp\u001b[0m\u001b[1;33m.\u001b[0m\u001b[0mrandom\u001b[0m\u001b[1;33m.\u001b[0m\u001b[0mchoice\u001b[0m\u001b[1;33m(\u001b[0m\u001b[1;36m5\u001b[0m\u001b[1;33m,\u001b[0m \u001b[1;36m10\u001b[0m\u001b[1;33m,\u001b[0m \u001b[0mreplace\u001b[0m\u001b[1;33m=\u001b[0m\u001b[1;32mFalse\u001b[0m\u001b[1;33m)\u001b[0m\u001b[1;33m;\u001b[0m \u001b[0mx2\u001b[0m\u001b[1;33m\u001b[0m\u001b[1;33m\u001b[0m\u001b[0m\n\u001b[0m",
      "\u001b[1;32mmtrand.pyx\u001b[0m in \u001b[0;36mnumpy.random.mtrand.RandomState.choice\u001b[1;34m()\u001b[0m\n",
      "\u001b[1;31mValueError\u001b[0m: Cannot take a larger sample than population when 'replace=False'"
     ]
    }
   ],
   "source": [
    "x2 = np.random.choice(5, 10, replace=False); x2"
   ]
  },
  {
   "cell_type": "code",
   "execution_count": 17,
   "id": "38cad2be",
   "metadata": {},
   "outputs": [
    {
     "data": {
      "text/plain": [
       "array([4, 2, 3, 0, 3, 0, 2, 2, 0, 4])"
      ]
     },
     "execution_count": 17,
     "metadata": {},
     "output_type": "execute_result"
    }
   ],
   "source": [
    "x2 = np.random.choice(5, 10, replace=True); x2     # 재사용을 하면 원본데이터보다 더 많은 값 추출 가능"
   ]
  },
  {
   "cell_type": "code",
   "execution_count": 18,
   "id": "812141d1",
   "metadata": {},
   "outputs": [
    {
     "data": {
      "text/plain": [
       "array([4, 4, 4, 4, 4, 4, 0, 3, 4, 4])"
      ]
     },
     "execution_count": 18,
     "metadata": {},
     "output_type": "execute_result"
    }
   ],
   "source": [
    "x3 = np.random.choice(5, 10, replace=True, p=[0.1, 0, 0, 0.3, 0.6]); x3    # 요소별 선택 확률도 부여"
   ]
  },
  {
   "cell_type": "code",
   "execution_count": null,
   "id": "957f9599",
   "metadata": {},
   "outputs": [],
   "source": [
    "'''\n",
    "# rand() : 0~1 실수 균일 분포\n",
    "# randn() : 실수 가우시안 표준 정규 분포\n",
    "# randint() : 균일분포 정수 - 난수\n",
    " - randint(low, high, size)\n",
    "  -- size : 난수의 갯수\n",
    "  \n",
    "'''"
   ]
  },
  {
   "cell_type": "code",
   "execution_count": 19,
   "id": "84844d4f",
   "metadata": {},
   "outputs": [
    {
     "data": {
      "text/plain": [
       "array([0.02720237, 0.24717724, 0.06714437, 0.99385201, 0.97058031])"
      ]
     },
     "execution_count": 19,
     "metadata": {},
     "output_type": "execute_result"
    }
   ],
   "source": [
    "np.random.rand(5)"
   ]
  },
  {
   "cell_type": "code",
   "execution_count": 20,
   "id": "c6c0d150",
   "metadata": {},
   "outputs": [
    {
     "data": {
      "text/plain": [
       "array([[0.80025835, 0.60181712, 0.76495986, 0.16922545, 0.29302323],\n",
       "       [0.52406688, 0.35662428, 0.04567897, 0.98315345, 0.44135492],\n",
       "       [0.50400044, 0.32354132, 0.25974475, 0.38688989, 0.8320169 ]])"
      ]
     },
     "execution_count": 20,
     "metadata": {},
     "output_type": "execute_result"
    }
   ],
   "source": [
    "np.random.rand(3, 5)"
   ]
  },
  {
   "cell_type": "code",
   "execution_count": 21,
   "id": "18539e93",
   "metadata": {},
   "outputs": [
    {
     "data": {
      "text/plain": [
       "array([-0.72255835,  1.41621298,  0.57014127, -1.59014501, -0.06352438,\n",
       "       -2.4417338 , -1.79591943, -1.02477173,  0.44430432,  0.04789425])"
      ]
     },
     "execution_count": 21,
     "metadata": {},
     "output_type": "execute_result"
    }
   ],
   "source": [
    "np.random.randn(10)"
   ]
  },
  {
   "cell_type": "code",
   "execution_count": 22,
   "id": "1b1159e7",
   "metadata": {},
   "outputs": [
    {
     "data": {
      "text/plain": [
       "array([42, 49, 19, 24, 40])"
      ]
     },
     "execution_count": 22,
     "metadata": {},
     "output_type": "execute_result"
    }
   ],
   "source": [
    "np.random.randint(10, 50, 5)"
   ]
  },
  {
   "cell_type": "code",
   "execution_count": 29,
   "id": "a2923601",
   "metadata": {},
   "outputs": [
    {
     "data": {
      "text/plain": [
       "array([38, 10, 22, 37, 40, 41])"
      ]
     },
     "execution_count": 29,
     "metadata": {},
     "output_type": "execute_result"
    }
   ],
   "source": [
    "# 로또 번호 6개 구해보세요\n",
    "np.random.randint(1, 46, 6)"
   ]
  },
  {
   "cell_type": "code",
   "execution_count": 30,
   "id": "adb648ca",
   "metadata": {},
   "outputs": [
    {
     "data": {
      "text/plain": [
       "array([[40, 20, 27, 37, 41, 39],\n",
       "       [20,  9, 15, 28,  4, 16],\n",
       "       [ 3, 23,  6,  6, 19, 38],\n",
       "       [30, 13, 29,  7, 45,  6],\n",
       "       [17,  6, 27, 20, 40, 38]])"
      ]
     },
     "execution_count": 30,
     "metadata": {},
     "output_type": "execute_result"
    }
   ],
   "source": [
    "# 로또 5천원어치 구해보세요\n",
    "np.random.randint(1, 46, (5,6))"
   ]
  },
  {
   "cell_type": "code",
   "execution_count": 31,
   "id": "b61a2ef8",
   "metadata": {},
   "outputs": [
    {
     "data": {
      "text/plain": [
       "array([[1.07637373e-311, 3.16202013e-322, 0.00000000e+000],\n",
       "       [0.00000000e+000, 0.00000000e+000, 3.08861180e-057],\n",
       "       [2.44748934e-056, 6.69902375e+170, 7.31785644e-042],\n",
       "       [1.58865705e-076, 2.35991901e+184, 4.01646870e-057]])"
      ]
     },
     "execution_count": 31,
     "metadata": {},
     "output_type": "execute_result"
    }
   ],
   "source": [
    "# cf) 큰 값을 선언하지 않고 배열로 만드는 방법\n",
    "np.empty((4, 3))"
   ]
  },
  {
   "cell_type": "code",
   "execution_count": null,
   "id": "083f13e0",
   "metadata": {},
   "outputs": [],
   "source": []
  }
 ],
 "metadata": {
  "kernelspec": {
   "display_name": "Python 3",
   "language": "python",
   "name": "python3"
  },
  "language_info": {
   "codemirror_mode": {
    "name": "ipython",
    "version": 3
   },
   "file_extension": ".py",
   "mimetype": "text/x-python",
   "name": "python",
   "nbconvert_exporter": "python",
   "pygments_lexer": "ipython3",
   "version": "3.8.8"
  }
 },
 "nbformat": 4,
 "nbformat_minor": 5
}
